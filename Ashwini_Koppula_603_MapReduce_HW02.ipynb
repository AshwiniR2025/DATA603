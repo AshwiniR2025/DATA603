{
 "cells": [
  {
   "cell_type": "code",
   "execution_count": 1,
   "id": "1ab30e8a",
   "metadata": {},
   "outputs": [],
   "source": [
    "# Date of Birth in DD-MM-YYYY format is 06-06-2000"
   ]
  },
  {
   "cell_type": "markdown",
   "id": "34699b80",
   "metadata": {},
   "source": [
    "# Question-1- count occurrences of each word"
   ]
  },
  {
   "cell_type": "code",
   "execution_count": 2,
   "id": "c1b33cb1",
   "metadata": {},
   "outputs": [
    {
     "name": "stdout",
     "output_type": "stream",
     "text": [
      "{'a': 65, 'abandoned': 1, 'able': 1, 'about': 11, 'above': 1, 'actually': 2, 'added': 2, 'affect': 1, 'afraid': 2, 'after': 2, 'again': 6, 'ago': 1, 'air': 2, 'alive': 5, 'all': 17, 'almost': 4, 'alone': 3, 'aloud': 1, 'already': 2, 'always': 2, 'am': 1, 'amber': 1, 'amelia': 3, 'amount': 1, 'an': 7, 'and': 73, 'anger': 1, 'announced': 2, 'answer': 1, 'any': 5, 'anybody': 1, 'anything': 1, 'anyway': 4, 'appear': 1, 'appeared': 2, 'are': 6, 'area': 1, 'around': 4, 'arrangements': 1, 'arrival': 2, 'art': 1, 'as': 11, 'aside': 1, 'ask': 2, 'assurances': 1, 'at': 17, 'atrocity': 1, 'attacking': 1, 'attempt': 2, 'auror': 1, 'axminster': 1, 'azkaban': 4, 'back': 5, 'backyard': 1, 'baffled': 1, 'barely': 1, 'barked': 1, 'be': 12, 'beard': 1, 'because': 1, 'becoming': 1, 'been': 14, 'before': 5, 'behind': 1, 'being': 2, 'believe': 1, 'bent': 1, 'best': 1, 'better': 2, 'beyond': 1, 'bit': 1, 'black': 7, 'blackmail': 1, 'blackmailer': 1, 'blacks': 3, 'bleated': 1, 'blood': 10, 'blur': 1, 'blustered': 1, 'body': 1, 'bones': 3, 'book': 1, 'bother': 3, 'bounced': 1, 'bowler': 5, 'boy': 1, 'breakdown': 1, 'breakout': 3, 'breath': 1, 'breathlessly': 1, 'bridge': 2, 'bringing': 1, 'brockdale': 2, 'broke': 1, 'broomsticks': 1, 'brought': 1, 'builder': 1, 'burst': 1, 'but': 21, 'by': 4, 'bytheby': 1, 'cabinet': 1, 'called': 2, 'came': 1, 'campaign': 1, 'cant': 2, 'canvas': 1, 'capture': 1, 'carpenters': 1, 'cast': 1, 'catching': 2, 'caused': 1, 'cautiously': 1, 'caved': 1, 'center': 1, 'certain': 1, 'certainly': 1, 'chair': 1, 'chancellor': 1, 'charge': 1, 'chewing': 1, 'chin': 1, 'chorleys': 1, 'chortling': 1, 'cleared': 1, 'cloak': 1, 'clock': 1, 'clutching': 1, 'coloring': 1, 'come': 2, 'committed': 2, 'community': 2, 'concerns': 2, 'conjured': 1, 'considerable': 1, 'continued': 1, 'control': 3, 'conversation': 1, 'conversations': 1, 'convince': 1, 'corner': 3, 'corroded': 1, 'could': 5, 'country': 3, 'course': 3, 'creatures': 3, 'crimes': 1, 'cup': 1, 'currently': 1, 'dangerous': 2, 'dare': 1, 'day': 3, 'dead': 2, 'dealing': 1, 'dear': 1, 'death': 1, 'decades': 1, 'deep': 1, 'defensively': 1, 'deficient': 1, 'delighted': 1, 'demanded': 1, 'dementors': 3, 'deny': 1, 'department': 3, 'departments': 1, 'desk': 2, 'desperate': 1, 'despite': 1, 'details': 2, 'did': 5, 'didnt': 2, 'difficult': 1, 'disappearance': 1, 'disaster': 1, 'disasters': 1, 'discover': 1, 'discussion': 1, 'disheveled': 1, 'dismay': 1, 'distractedly': 1, 'diverted': 1, 'do': 2, 'dont': 6, 'down': 7, 'dragon': 1, 'dragons': 3, 'drew': 1, 'dripping': 1, 'dumbledore': 2, 'during': 1, 'each': 4, 'earlier': 1, 'eaters': 1, 'eclipsed': 1, 'effect': 1, 'effected': 1, 'effort': 2, 'efforts': 1, 'either': 1, 'election': 1, 'else': 2, 'eluded': 1, 'emerald': 1, 'emmeline': 1, 'encompassed': 1, 'encounter': 2, 'end': 1, 'enforcement': 1, 'enough': 2, 'er': 3, 'erupted': 1, 'escaped': 1, 'even': 2, 'ever': 1, 'every': 3, 'everything': 1, 'evidence': 2, 'exactly': 2, 'excellent': 1, 'exchequer': 1, 'excuse': 1, 'expansion': 1, 'explain': 1, 'explanation': 1, 'extremely': 1, 'eye': 1, 'eyes': 1, 'eyewitnesses': 1, 'fact': 3, 'family': 1, 'fast': 1, 'fastened': 1, 'faster': 1, 'fatherly': 1, 'fault': 3, 'fear': 1, 'feared': 1, 'felt': 2, 'field': 1, 'fifteen': 1, 'fifty': 1, 'fight': 1, 'fill': 1, 'find': 3, 'fingers': 1, 'fire': 2, 'fireplace': 3, 'fireplaces': 1, 'firmly': 1, 'first': 1, 'flames': 2, 'fleeting': 1, 'flight': 1, 'flustered': 1, 'followers': 3, 'foolish': 1, 'foot': 1, 'for': 19, 'foreign': 1, 'forgot': 1, 'former': 1, 'found': 2, 'frame': 1, 'fretful': 1, 'from': 8, 'fudge': 43, 'fudges': 3, 'full': 1, 'furiously': 2, 'further': 1, 'gazed': 1, 'gently': 1, 'gerbil': 2, 'gets': 1, 'getting': 1, 'giant': 2, 'giants': 1, 'gifted': 1, 'given': 1, 'glasses': 1, 'gloomy': 1, 'glow': 1, 'go': 1, 'going': 5, 'good': 3, 'got': 4, 'government': 1, 'governments': 1, 'grand': 1, 'graver': 1, 'great': 2, 'green': 1, 'grief': 1, 'grimaced': 1, 'groped': 1, 'grueling': 1, 'guard': 1, 'habit': 1, 'had': 57, 'half': 10, 'hallucination': 1, 'hand': 5, 'happen': 1, 'happened': 4, 'happier': 1, 'harassedlooking': 1, 'harry': 11, 'has': 4, 'hasnt': 1, 'hat': 3, 'have': 14, 'having': 1, 'havoc': 1, 'he': 43, 'head': 3, 'hear': 1, 'heard': 1, 'heatedly': 1, 'help': 1, 'her': 1, 'herbert': 1, 'here': 1, 'herself': 1, 'hes': 7, 'hewhomustnotbenamed': 7, 'hewhomustnotbenameds': 1, 'highly': 1, 'him': 12, 'himself': 5, 'his': 43, 'historian': 1, 'hit': 1, 'hoarsely': 1, 'hoax': 2, 'hogwarts': 1, 'hope': 4, 'hoped': 1, 'hopelessly': 1, 'horrible': 2, 'hospital': 1, 'hour': 1, 'how': 2, 'however': 3, 'hurricane': 3, 'i': 25, 'id': 1, 'if': 5, 'ill': 1, 'im': 5, 'immediately': 1, 'imminent': 1, 'importing': 1, 'impossible': 1, 'in': 34, 'incident': 1, 'indeed': 1, 'inform': 1, 'infuriating': 1, 'injuries': 2, 'innocent': 1, 'inquiry': 1, 'inside': 2, 'instead': 1, 'instructed': 1, 'interrupted': 1, 'into': 9, 'invisible': 1, 'involved': 1, 'involvement': 2, 'is': 11, 'isolated': 1, 'it': 25, 'its': 7, 'ive': 1, 'jacket': 1, 'january': 1, 'jk': 10, 'job': 1, 'joined': 1, 'joints': 1, 'just': 5, 'keeping': 1, 'killed': 3, 'killer': 1, 'killing': 3, 'kindly': 1, 'know': 9, 'known': 1, 'kwidditch': 1, 'lack': 1, 'lampposts': 1, 'large': 2, 'last': 4, 'later': 2, 'laughed': 1, 'law': 2, 'league': 1, 'leave': 1, 'leaving': 1, 'left': 2, 'less': 2, 'let': 2, 'liaison': 1, 'like': 5, 'liked': 1, 'likely': 1, 'limegreen': 1, 'liquid': 1, 'listening': 1, 'little': 4, 'live': 2, 'lived': 2, 'living': 2, 'locked': 1, 'long': 1, 'look': 2, 'looking': 1, 'lord': 1, 'losing': 2, 'lot': 3, 'low': 1, 'made': 2, 'magic': 4, 'magical': 4, 'maintain': 1, 'making': 2, 'maladies': 1, 'man': 4, 'mark': 1, 'mass': 3, 'materializing': 1, 'matter': 2, 'may': 2, 'maybe': 2, 'me': 8, 'mean': 3, 'meant': 1, 'meeting': 1, 'memories': 1, 'memory': 2, 'mention': 1, 'merlins': 1, 'middle': 1, 'middleaged': 1, 'might': 2, 'minister': 51, 'ministers': 5, 'ministry': 4, 'miserably': 1, 'misinformation': 1, 'mistaken': 1, 'modifications': 1, 'modify': 1, 'moment': 3, 'momentarily': 1, 'morale': 1, 'more': 6, 'most': 2, 'motionless': 2, 'move': 1, 'moved': 1, 'much': 1, 'muddybrown': 1, 'muggle': 4, 'muggles': 4, 'mungos': 1, 'murder': 2, 'murdered': 2, 'murders': 1, 'must': 2, 'my': 3, 'mysterious': 1, 'name': 2, 'named': 1, 'nasty': 2, 'need': 2, 'nervously': 1, 'never': 6, 'nevertheless': 1, 'news': 2, 'newspapers': 2, 'next': 2, 'niece': 1, 'night': 2, 'no': 8, 'nobody': 1, 'none': 1, 'nonmagical': 2, 'nor': 1, 'north': 1, 'nose': 1, 'not': 17, 'nothing': 3, 'notice': 1, 'notify': 1, 'now': 7, 'obliviators': 1, 'occasionally': 1, 'occupant': 1, 'oddson': 1, 'of': 75, 'off': 2, 'offered': 1, 'office': 5, 'oh': 2, 'on': 11, 'once': 4, 'one': 6, 'only': 2, 'open': 1, 'opposition': 2, 'or': 6, 'order': 1, 'other': 5, 'others': 1, 'otherwise': 1, 'ought': 2, 'our': 3, 'out': 17, 'over': 3, 'overstatement': 1, 'own': 2, 'pace': 1, 'painting': 1, 'panic': 1, 'panted': 1, 'papers': 1, 'parchment': 1, 'patted': 1, 'people': 2, 'persistent': 1, 'person': 1, 'picture': 1, 'piece': 1, 'pinstriped': 1, 'pity': 1, 'place': 1, 'planned': 1, 'planning': 1, 'playing': 1, 'pocket': 1, 'point': 4, 'pointed': 1, 'poking': 1, 'police': 1, 'population': 3, 'portrait': 3, 'positively': 1, 'potter': 11, 'powder': 1, 'powerful': 1, 'predecessor': 1, 'premises': 1, 'press': 1, 'pretty': 1, 'prevented': 1, 'previous': 1, 'previously': 1, 'prime': 53, 'prince': 10, 'prise': 1, 'prison': 1, 'prisoners': 1, 'private': 1, 'properly': 1, 'proved': 1, 'public': 1, 'publicity': 1, 'pulled': 1, 'purposes': 1, 'pushed': 1, 'put': 3, 'questions': 1, 'quite': 3, 'ranting': 1, 'rapidly': 2, 'rather': 3, 'real': 1, 'realized': 1, 'really': 5, 'reason': 1, 'reassurances': 1, 'refused': 1, 'regulation': 2, 'regulations': 1, 'rejoin': 1, 'remained': 2, 'remember': 1, 'remembered': 1, 'reminders': 1, 'remotest': 1, 'remove': 1, 'repeated': 2, 'resented': 1, 'resolved': 1, 'responsibility': 1, 'responsible': 1, 'rest': 1, 'reveals': 1, 'rid': 1, 'rigging': 1, 'right': 1, 'rim': 1, 'ripped': 1, 'rising': 1, 'roofs': 1, 'room': 3, 'round': 1, 'rounded': 1, 'routine': 1, 'rowling': 10, 'rule': 1, 'run': 1, 'running': 1, 'rusted': 1, 'safer': 1, 'said': 27, 'same': 1, 'sat': 1, 'saw': 2, 'say': 8, 'saying': 1, 'says': 1, 'scratching': 1, 'sea': 1, 'secrecy': 1, 'secret': 1, 'secretary': 1, 'see': 3, 'seeing': 1, 'seemed': 1, 'seen': 2, 'selfproclaimed': 1, 'sense': 1, 'sentence': 1, 'serious': 3, 'several': 2, 'shaken': 1, 'she': 4, 'shock': 1, 'should': 3, 'shoulder': 1, 'shout': 1, 'shouted': 1, 'shower': 1, 'shuddered': 1, 'sighed': 1, 'sight': 1, 'silent': 1, 'simply': 2, 'since': 1, 'sirius': 1, 'sit': 3, 'sleep': 1, 'smugness': 1, 'snapped': 1, 'snarled': 1, 'so': 6, 'some': 1, 'somerset': 1, 'something': 3, 'sopping': 1, 'sorry': 2, 'sort': 1, 'soul': 1, 'sound': 1, 'sounded': 2, 'sparks': 1, 'speaking': 1, 'speech': 1, 'speechless': 1, 'sphinx': 2, 'sphinxes': 1, 'spinning': 2, 'spluttered': 1, 'spoke': 1, 'spot': 1, 'squinted': 1, 'st': 1, 'stab': 1, 'stamping': 1, 'standing': 1, 'started': 1, 'state': 1, 'stepped': 1, 'stepping': 1, 'steps': 1, 'sternly': 1, 'still': 5, 'stilldumbstruck': 1, 'stood': 4, 'stopped': 2, 'stretch': 1, 'striding': 1, 'subject': 1, 'such': 1, 'support': 2, 'suppose': 2, 'sure': 1, 'surely': 1, 'surprise': 1, 'surprised': 1, 'surreptitiously': 1, 'suspect': 1, 'swarming': 1, 'sworn': 1, 'take': 1, 'taken': 2, 'taking': 1, 'talked': 1, 'talking': 2, 'teacup': 2, 'teams': 1, 'tell': 5, 'tells': 1, 'temper': 1, 'term': 1, 'terrible': 2, 'than': 6, 'that': 43, 'thats': 2, 'the': 169, 'their': 2, 'them': 4, 'then': 9, 'there': 7, 'therefore': 1, 'theres': 2, 'these': 1, 'they': 6, 'theyve': 1, 'thin': 2, 'thing': 2, 'think': 5, 'this': 12, 'those': 3, 'though': 4, 'thought': 4, 'thousand': 1, 'threatened': 1, 'three': 5, 'throat': 1, 'throughout': 1, 'throw': 1, 'thrown': 1, 'thrust': 1, 'time': 7, 'tipping': 1, 'to': 60, 'told': 3, 'tonight': 2, 'too': 2, 'took': 3, 'touched': 1, 'tournament': 1, 'toward': 1, 'tracks': 1, 'trained': 1, 'transferred': 1, 'trees': 1, 'tricks': 1, 'tried': 3, 'triwizard': 1, 'trying': 2, 'turned': 1, 'turning': 1, 'turns': 1, 'twice': 1, 'twirling': 1, 'two': 3, 'ugly': 1, 'uncomfortable': 1, 'under': 3, 'understand': 1, 'unintelligible': 1, 'unless': 2, 'unsuccessfully': 1, 'up': 10, 'upon': 1, 'uproar': 1, 'uprooted': 1, 'us': 1, 'use': 1, 'used': 1, 'vain': 1, 'vance': 1, 'vanished': 2, 'very': 4, 'visit': 1, 'voice': 1, 'vol': 1, 'wait': 1, 'walking': 2, 'wall': 2, 'wand': 2, 'wanted': 1, 'war': 2, 'warned': 1, 'warning': 1, 'was': 29, 'wasnt': 6, 'watching': 1, 'water': 1, 'way': 2, 'we': 13, 'wear': 2, 'week': 1, 'well': 6, 'wellinformed': 1, 'were': 9, 'west': 1, 'wet': 1, 'weve': 4, 'what': 9, 'whatever': 1, 'whats': 1, 'when': 8, 'which': 2, 'while': 2, 'whiskey': 2, 'whiskeyfree': 1, 'who': 12, 'whole': 1, 'whooshing': 1, 'why': 5, 'wide': 1, 'wind': 1, 'window': 1, 'wiser': 1, 'wishing': 1, 'witch': 1, 'witches': 1, 'with': 12, 'without': 2, 'wizard': 4, 'wizarding': 2, 'wizards': 2, 'woman': 1, 'wont': 2, 'wood': 1, 'work': 1, 'working': 1, 'world': 3, 'worry': 4, 'worrying': 1, 'worse': 1, 'worst': 2, 'would': 8, 'wreaking': 1, 'wrote': 1, 'yawning': 1, 'year': 1, 'years': 4, 'yes': 4, 'yet': 2, 'you': 22, 'youknowwho': 2, 'youknowwhos': 1, 'youll': 2, 'your': 2, 'youre': 4}\n"
     ]
    }
   ],
   "source": [
    "import re\n",
    "from collections import defaultdict\n",
    "\n",
    "# Read file\n",
    "with open(r'C:\\Users\\ashwi\\OneDrive\\Documents\\file1.txt', 'r',encoding='utf-8') as file:\n",
    "    text_file = file.read()\n",
    "\n",
    "# PREPROCESSING CONVERTING TEXT INTO LOWERCASES and removing punctuation,numbers and quotations\n",
    "def preprocess(text_file):\n",
    "    text_file = text_file.lower()\n",
    "    return re.sub(r'[^a-zA-Z\\s]', '', text_file)\n",
    "\n",
    "processed_text = preprocess(text_file)\n",
    "\n",
    "# Map function\n",
    "def mapper(text_file):\n",
    "    words = text_file.split()\n",
    "    output = defaultdict(int)\n",
    "    for word in words:\n",
    "        output[word] += 1\n",
    "    return output\n",
    "\n",
    "# Reduce function\n",
    "def reducer(map_data):\n",
    "    output = defaultdict(int)\n",
    "    for word, count in map_data.items():\n",
    "        output[word] += count\n",
    "    return output\n",
    "\n",
    "#Mapreduce\n",
    "map_data = mapper(processed_text)\n",
    "reduce_data = reducer(map_data)\n",
    "\n",
    "# Output in alphabetical order\n",
    "sorted_dict = dict(sorted(reduce_data.items(), key=lambda x: x[0]))\n",
    "\n",
    "print(sorted_dict)"
   ]
  },
  {
   "cell_type": "markdown",
   "id": "c6ddfc33",
   "metadata": {},
   "source": [
    "# Question-2 Count how many times non-English words (names, places, spells etc.) were used."
   ]
  },
  {
   "cell_type": "code",
   "execution_count": 3,
   "id": "bdc632c8",
   "metadata": {},
   "outputs": [
    {
     "name": "stdout",
     "output_type": "stream",
     "text": [
      "{'auror': 1, 'azkaban': 1, 'delacour': 1, 'diagon': 1, 'down-to\\x02earth': 1, 'eenglish': 1, 'eet': 2, 'gringotts': 1, 'im': 1, 'j.k': 10, 'lestrange': 1, 'malfoy': 1, 'rowling': 10, 'seester': 1, 'shh': 1, 'slytherin': 1, 'tchah': 1, 'third\\x02eldest': 1, 'triwizard': 1, 'umbridge': 3, 'voldemort': 3, 'weasley': 12, 'ze': 1, 'zere': 1}\n"
     ]
    }
   ],
   "source": [
    "import re\n",
    "from collections import defaultdict\n",
    "\n",
    "# Read file with English words which is downloaded from (http://www.gwicks.net/dictionaries.html) and stored in english3.txt\n",
    "with open(r'C:\\Users\\ashwi\\Downloads\\english3\\english3.txt', 'r', encoding='ISO-8859-1') as file:\n",
    "    english_words = set(file.read().lower().split())\n",
    "\n",
    "#Preprocessing convert to lower cases and removing leadin or trailing punctuation\n",
    "def preprocess(text):\n",
    "    text = text.lower()\n",
    "    words = text.split()\n",
    "    cleaned_words = [re.sub(r'^[^a-zA-Z\\']+', '', re.sub(r'[^a-zA-Z\\']+$', '', word)) for word in words]\n",
    "    return ' '.join(cleaned_words)\n",
    "\n",
    "def mapper(text, english_words):\n",
    "    words = text.split()\n",
    "    output = defaultdict(int)\n",
    "    filtered_words = [word for word in words if \"’\" not in word]\n",
    "    \n",
    "    # Handling words with hyphens\n",
    "    for word in filtered_words.copy():\n",
    "        if '-' in word:\n",
    "            components = word.split('-')\n",
    "            if all(component in english_words for component in components):\n",
    "                filtered_words.remove(word)\n",
    "    \n",
    "    for word in filtered_words:\n",
    "        if word not in english_words:\n",
    "            output[word] += 1\n",
    "            \n",
    "    return output\n",
    "\n",
    "# Reduce function\n",
    "def reducer(map_data):\n",
    "    output = defaultdict(int)\n",
    "    for word, count in map_data.items():\n",
    "        output[word] += count\n",
    "    return output\n",
    "\n",
    "# Read the file\n",
    "with open(r'C:\\Users\\ashwi\\OneDrive\\Documents\\file2.txt', 'r',encoding='utf-8') as file:\n",
    "    text_file = file.read()\n",
    "\n",
    "processed_textFile = preprocess(text_file)\n",
    "\n",
    "# Running MapReduce\n",
    "map_data = mapper(processed_textFile, english_words)\n",
    "reduce_data = reducer(map_data)\n",
    "\n",
    "#Print Output in Alphabetical order\n",
    "sorted_dict = dict(sorted(reduce_data.items(), key=lambda x: x[0]))\n",
    "print(sorted_dict)"
   ]
  },
  {
   "cell_type": "code",
   "execution_count": null,
   "id": "3ed37cb4",
   "metadata": {},
   "outputs": [],
   "source": []
  }
 ],
 "metadata": {
  "kernelspec": {
   "display_name": "Python 3 (ipykernel)",
   "language": "python",
   "name": "python3"
  },
  "language_info": {
   "codemirror_mode": {
    "name": "ipython",
    "version": 3
   },
   "file_extension": ".py",
   "mimetype": "text/x-python",
   "name": "python",
   "nbconvert_exporter": "python",
   "pygments_lexer": "ipython3",
   "version": "3.11.5"
  }
 },
 "nbformat": 4,
 "nbformat_minor": 5
}
