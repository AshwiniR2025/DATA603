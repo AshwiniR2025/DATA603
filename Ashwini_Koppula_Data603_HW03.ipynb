{
  "nbformat": 4,
  "nbformat_minor": 0,
  "metadata": {
    "colab": {
      "provenance": []
    },
    "kernelspec": {
      "name": "python3",
      "display_name": "Python 3"
    },
    "language_info": {
      "name": "python"
    }
  },
  "cells": [
    {
      "cell_type": "code",
      "source": [
        "!pip install pyspark"
      ],
      "metadata": {
        "colab": {
          "base_uri": "https://localhost:8080/"
        },
        "id": "uZQOXoHLxZeC",
        "outputId": "30f3382d-8f8f-4003-8ef7-99ea32b7c1ed"
      },
      "execution_count": 1,
      "outputs": [
        {
          "output_type": "stream",
          "name": "stdout",
          "text": [
            "Collecting pyspark\n",
            "  Downloading pyspark-3.5.1.tar.gz (317.0 MB)\n",
            "\u001b[2K     \u001b[90m━━━━━━━━━━━━━━━━━━━━━━━━━━━━━━━━━━━━━━━━\u001b[0m \u001b[32m317.0/317.0 MB\u001b[0m \u001b[31m1.2 MB/s\u001b[0m eta \u001b[36m0:00:00\u001b[0m\n",
            "\u001b[?25h  Preparing metadata (setup.py) ... \u001b[?25l\u001b[?25hdone\n",
            "Requirement already satisfied: py4j==0.10.9.7 in /usr/local/lib/python3.10/dist-packages (from pyspark) (0.10.9.7)\n",
            "Building wheels for collected packages: pyspark\n",
            "  Building wheel for pyspark (setup.py) ... \u001b[?25l\u001b[?25hdone\n",
            "  Created wheel for pyspark: filename=pyspark-3.5.1-py2.py3-none-any.whl size=317488491 sha256=6c1943fe39c97d7b5fe572b90160c034cc1704b8ea92c609e6aef2d05ab7cdde\n",
            "  Stored in directory: /root/.cache/pip/wheels/80/1d/60/2c256ed38dddce2fdd93be545214a63e02fbd8d74fb0b7f3a6\n",
            "Successfully built pyspark\n",
            "Installing collected packages: pyspark\n",
            "Successfully installed pyspark-3.5.1\n"
          ]
        }
      ]
    },
    {
      "cell_type": "code",
      "source": [
        "from pyspark.sql import SparkSession\n",
        "from pyspark.sql.functions import col, year, hour, when\n",
        "from pyspark.sql.types import StructType, StructField, IntegerType, StringType, BooleanType, FloatType"
      ],
      "metadata": {
        "id": "O4X79RPDxp-v"
      },
      "execution_count": 2,
      "outputs": []
    },
    {
      "cell_type": "markdown",
      "source": [
        "# **1.CREATING SPARK SESSION**"
      ],
      "metadata": {
        "id": "i4mhAgDNyGZJ"
      }
    },
    {
      "cell_type": "code",
      "source": [
        "spark = SparkSession.builder \\\n",
        "    .appName(\"ChicagoCrimeAnalysis\") \\\n",
        "    .getOrCreate()"
      ],
      "metadata": {
        "id": "UFmdAgYIyCj-"
      },
      "execution_count": 3,
      "outputs": []
    },
    {
      "cell_type": "markdown",
      "source": [
        "# **2.Define the schema for loading the Chicago crime dataset**"
      ],
      "metadata": {
        "id": "H-PL4EBXyaYS"
      }
    },
    {
      "cell_type": "code",
      "source": [
        "from pyspark.sql.types import StructType, StructField, IntegerType, StringType, BooleanType, FloatType\n",
        "\n",
        "# Define the schema matching the provided data types\n",
        "schema = StructType([\n",
        "    StructField(\"ID\", IntegerType(), True),\n",
        "    StructField(\"Case Number\", StringType(), True),\n",
        "    StructField(\"Date\", StringType(), True),\n",
        "    StructField(\"Block\", StringType(), True),\n",
        "    StructField(\"IUCR\", StringType(), True),\n",
        "    StructField(\"Primary Type\", StringType(), True),\n",
        "    StructField(\"Description\", StringType(), True),\n",
        "    StructField(\"Location Description\", StringType(), True),\n",
        "    StructField(\"Arrest\", BooleanType(), True),\n",
        "    StructField(\"Domestic\", BooleanType(), True),\n",
        "    StructField(\"Beat\", IntegerType(), True),\n",
        "    StructField(\"District\", FloatType(), True),\n",
        "    StructField(\"Ward\", FloatType(), True),\n",
        "    StructField(\"Community Area\", FloatType(), True),\n",
        "    StructField(\"FBI Code\", StringType(), True),\n",
        "    StructField(\"X Coordinate\", FloatType(), True),\n",
        "    StructField(\"Y Coordinate\", FloatType(), True),\n",
        "    StructField(\"Year\", IntegerType(), True),\n",
        "    StructField(\"Updated On\", StringType(), True),\n",
        "    StructField(\"Latitude\", FloatType(), True),\n",
        "    StructField(\"Longitude\", FloatType(), True),\n",
        "    StructField(\"Location\", StringType(), True)\n",
        "])"
      ],
      "metadata": {
        "id": "Isqxt1iwyfwO"
      },
      "execution_count": 4,
      "outputs": []
    },
    {
      "cell_type": "markdown",
      "source": [
        "## **3.Load the Chicago crime data (you should get more than a million rows).**"
      ],
      "metadata": {
        "id": "BkbUHv0RzF86"
      }
    },
    {
      "cell_type": "code",
      "source": [
        "from google.colab import drive\n",
        "drive.mount('/content/drive')\n",
        "crime_data = spark.read.csv(\"/content/drive/MyDrive/Crimes-2001_to_Present.csv\", schema=schema, header=True)"
      ],
      "metadata": {
        "colab": {
          "base_uri": "https://localhost:8080/"
        },
        "id": "ko6cQophFh3l",
        "outputId": "e2627062-5c79-48b2-c79d-620500ebf633"
      },
      "execution_count": 5,
      "outputs": [
        {
          "output_type": "stream",
          "name": "stdout",
          "text": [
            "Mounted at /content/drive\n"
          ]
        }
      ]
    },
    {
      "cell_type": "code",
      "source": [
        "# Display the schema of the crime data\n",
        "crime_data.printSchema()"
      ],
      "metadata": {
        "colab": {
          "base_uri": "https://localhost:8080/"
        },
        "id": "ll5vWpSTzcHm",
        "outputId": "3dfbee1f-9e47-4334-982d-cf9dfebc52b1"
      },
      "execution_count": 6,
      "outputs": [
        {
          "output_type": "stream",
          "name": "stdout",
          "text": [
            "root\n",
            " |-- ID: integer (nullable = true)\n",
            " |-- Case Number: string (nullable = true)\n",
            " |-- Date: string (nullable = true)\n",
            " |-- Block: string (nullable = true)\n",
            " |-- IUCR: string (nullable = true)\n",
            " |-- Primary Type: string (nullable = true)\n",
            " |-- Description: string (nullable = true)\n",
            " |-- Location Description: string (nullable = true)\n",
            " |-- Arrest: boolean (nullable = true)\n",
            " |-- Domestic: boolean (nullable = true)\n",
            " |-- Beat: integer (nullable = true)\n",
            " |-- District: float (nullable = true)\n",
            " |-- Ward: float (nullable = true)\n",
            " |-- Community Area: float (nullable = true)\n",
            " |-- FBI Code: string (nullable = true)\n",
            " |-- X Coordinate: float (nullable = true)\n",
            " |-- Y Coordinate: float (nullable = true)\n",
            " |-- Year: integer (nullable = true)\n",
            " |-- Updated On: string (nullable = true)\n",
            " |-- Latitude: float (nullable = true)\n",
            " |-- Longitude: float (nullable = true)\n",
            " |-- Location: string (nullable = true)\n",
            "\n"
          ]
        }
      ]
    },
    {
      "cell_type": "code",
      "source": [
        "# Count the number of rows in the DataFrame\n",
        "row_count = crime_data.count()\n",
        "print(\"Number of rows:\", row_count)"
      ],
      "metadata": {
        "colab": {
          "base_uri": "https://localhost:8080/"
        },
        "id": "wW5u9eEtQQO9",
        "outputId": "5f5dd58d-4637-406c-dc50-872b000049ab"
      },
      "execution_count": 7,
      "outputs": [
        {
          "output_type": "stream",
          "name": "stdout",
          "text": [
            "Number of rows: 8026144\n"
          ]
        }
      ]
    },
    {
      "cell_type": "code",
      "source": [
        "crime_data.show(50)"
      ],
      "metadata": {
        "colab": {
          "base_uri": "https://localhost:8080/"
        },
        "id": "kovTy5ER4jbK",
        "outputId": "2fd6fc39-0dae-4418-9e84-54858d5c789e"
      },
      "execution_count": 8,
      "outputs": [
        {
          "output_type": "stream",
          "name": "stdout",
          "text": [
            "+--------+-----------+--------------------+--------------------+----+--------------------+--------------------+--------------------+------+--------+----+--------+----+--------------+--------+------------+------------+----+--------------------+---------+----------+--------------------+\n",
            "|      ID|Case Number|                Date|               Block|IUCR|        Primary Type|         Description|Location Description|Arrest|Domestic|Beat|District|Ward|Community Area|FBI Code|X Coordinate|Y Coordinate|Year|          Updated On| Latitude| Longitude|            Location|\n",
            "+--------+-----------+--------------------+--------------------+----+--------------------+--------------------+--------------------+------+--------+----+--------+----+--------------+--------+------------+------------+----+--------------------+---------+----------+--------------------+\n",
            "|11037294|   JA371270|03/18/2015 12:00:...|   0000X W WACKER DR|1153|  DECEPTIVE PRACTICE|FINANCIAL IDENTIT...|                BANK| false|   false| 111|     1.0|42.0|          32.0|      11|        NULL|        NULL|2015|08/01/2017 03:52:...|     NULL|      NULL|                NULL|\n",
            "|11646293|   JC213749|12/20/2018 03:00:...|023XX N LOCKWOOD AVE|1154|  DECEPTIVE PRACTICE|FINANCIAL IDENTIT...|           APARTMENT| false|   false|2515|    25.0|36.0|          19.0|      11|        NULL|        NULL|2018|04/06/2019 04:04:...|     NULL|      NULL|                NULL|\n",
            "|11645836|   JC212333|05/01/2016 12:25:...| 055XX S ROCKWELL ST|1153|  DECEPTIVE PRACTICE|FINANCIAL IDENTIT...|                NULL| false|   false| 824|     8.0|15.0|          63.0|      11|        NULL|        NULL|2016|04/06/2019 04:04:...|     NULL|      NULL|                NULL|\n",
            "|11645959|   JC211511|12/20/2018 04:00:...|  045XX N ALBANY AVE|2820|       OTHER OFFENSE|    TELEPHONE THREAT|           RESIDENCE| false|   false|1724|    17.0|33.0|          14.0|     08A|        NULL|        NULL|2018|04/06/2019 04:04:...|     NULL|      NULL|                NULL|\n",
            "|11645601|   JC212935|06/01/2014 12:01:...| 087XX S SANGAMON ST|1153|  DECEPTIVE PRACTICE|FINANCIAL IDENTIT...|           RESIDENCE| false|   false|2222|    22.0|21.0|          71.0|      11|        NULL|        NULL|2014|04/06/2019 04:04:...|     NULL|      NULL|                NULL|\n",
            "|11646166|   JC213529|09/01/2018 12:01:...|082XX S INGLESIDE...|0810|               THEFT|           OVER $500|           RESIDENCE| false|    true| 631|     6.0| 8.0|          44.0|      06|        NULL|        NULL|2018|04/06/2019 04:04:...|     NULL|      NULL|                NULL|\n",
            "|11645648|   JC212959|01/01/2018 08:00:...| 024XX N MONITOR AVE|1153|  DECEPTIVE PRACTICE|FINANCIAL IDENTIT...|           RESIDENCE| false|   false|2515|    25.0|30.0|          19.0|      11|        NULL|        NULL|2018|04/06/2019 04:04:...|     NULL|      NULL|                NULL|\n",
            "|11645557|   JC212685|04/01/2018 12:01:...|  080XX S VERNON AVE|1153|  DECEPTIVE PRACTICE|FINANCIAL IDENTIT...|           RESIDENCE| false|   false| 631|     6.0| 6.0|          44.0|      11|        NULL|        NULL|2018|04/06/2019 04:04:...|     NULL|      NULL|                NULL|\n",
            "|11645527|   JC212744|02/02/2015 10:00:...|  069XX W ARCHER AVE|1153|  DECEPTIVE PRACTICE|FINANCIAL IDENTIT...|               OTHER| false|   false| 811|     8.0|23.0|          56.0|      11|        NULL|        NULL|2015|04/06/2019 04:04:...|     NULL|      NULL|                NULL|\n",
            "|11645833|   JC213044|05/05/2012 12:25:...|     057XX W OHIO ST|1153|  DECEPTIVE PRACTICE|FINANCIAL IDENTIT...|                NULL| false|   false|1511|    15.0|29.0|          25.0|      11|        NULL|        NULL|2012|04/06/2019 04:04:...|     NULL|      NULL|                NULL|\n",
            "|11645568|   JC212803|12/18/2018 11:00:...|  032XX N WILTON AVE|1153|  DECEPTIVE PRACTICE|FINANCIAL IDENTIT...|           RESIDENCE| false|   false|1924|    19.0|44.0|           6.0|      11|        NULL|        NULL|2018|04/06/2019 04:04:...|     NULL|      NULL|                NULL|\n",
            "|12045583|   JD226426|05/07/2020 10:24:...| 035XX S INDIANA AVE|0820|               THEFT|      $500 AND UNDER|           APARTMENT| false|   false| 212|     2.0| 3.0|          35.0|      06|   1178180.0|   1881621.0|2020|05/14/2020 08:47:...|41.830482| -87.62175|(41.830481843, -8...|\n",
            "|12031001|   JD209965|04/16/2020 05:00:...|     005XX W 32ND ST|0460|             BATTERY|              SIMPLE|           APARTMENT|  true|   false| 915|     9.0|11.0|          60.0|     08B|   1173292.0|   1883705.0|2020|04/23/2020 03:45:...| 41.83631|-87.639626|(41.836310224, -8...|\n",
            "|12093529|   JD282112|07/01/2020 10:16:...|   081XX S COLES AVE|051A|             ASSAULT|AGGRAVATED - HANDGUN|              STREET|  true|   false| 422|     4.0| 7.0|          46.0|     04A|   1198234.0|   1851595.0|2020|07/08/2020 03:41:...| 41.74761| -87.54918|(41.747609555, -8...|\n",
            "|12178140|   JD381597|09/27/2020 11:29:...| 065XX S WOLCOTT AVE|0460|             BATTERY|              SIMPLE|RESIDENCE - PORCH...| false|   false| 726|     7.0|15.0|          67.0|     08B|   1164812.0|   1861251.0|2020|10/04/2020 03:43:...|41.774876| -87.67137|(41.77487752, -87...|\n",
            "| 4144897|   HL474854|07/10/2005 03:00:...| 062XX S ABERDEEN ST|0430|             BATTERY|AGGRAVATED: OTHER...|              STREET| false|   false| 712|     7.0|16.0|          68.0|     04B|   1170050.0|   1863524.0|2005|02/28/2018 03:56:...|41.781002| -87.65211|(41.781002663, -8...|\n",
            "| 1744168|    G553545|09/15/2001 02:00:...|     013XX W POLK ST|0460|             BATTERY|              SIMPLE|              STREET| false|   false|1213|    12.0|NULL|          NULL|     08B|        NULL|        NULL|2001|08/17/2015 03:03:...|     NULL|      NULL|                NULL|\n",
            "|11641644|   JC207234|03/31/2019 09:30:...|   005XX N ogden ave|0890|               THEFT|       FROM BUILDING|          RESTAURANT| false|   false|1215|    12.0| 1.0|          24.0|      06|        NULL|        NULL|2019|04/07/2019 04:05:...|     NULL|      NULL|                NULL|\n",
            "|11615821|   JC176668|01/01/2016 12:00:...| 054XX N NATCHEZ AVE|1195|  DECEPTIVE PRACTICE|FINAN EXPLOIT-ELD...|           RESIDENCE| false|    true|1613|    16.0|45.0|          10.0|      11|        NULL|        NULL|2016|03/08/2019 04:36:...|     NULL|      NULL|                NULL|\n",
            "|12126129|   JD321064|08/04/2020 08:28:...| 081XX S LOOMIS BLVD|143A|   WEAPONS VIOLATION|UNLAWFUL POSSESSI...|              STREET|  true|   false| 613|     6.0|21.0|          71.0|      15|   1168412.0|   1850836.0|2020|08/11/2020 03:42:...| 41.74622| -87.65848|(41.746220584, -8...|\n",
            "|11642709|   JC208560|03/31/2019 11:00:...|   0000X E MONROE ST|0890|               THEFT|       FROM BUILDING|         HOTEL/MOTEL| false|   false| 112|     1.0|42.0|          32.0|      06|        NULL|        NULL|2019|04/07/2019 04:05:...|     NULL|      NULL|                NULL|\n",
            "|11642710|   JC209088|03/31/2019 01:00:...|    015XX N WELLS ST|0890|               THEFT|       FROM BUILDING|       BAR OR TAVERN| false|   false|1821|    18.0|27.0|           8.0|      06|        NULL|        NULL|2019|04/07/2019 04:05:...|     NULL|      NULL|                NULL|\n",
            "|11641400|   JC207897|07/26/2018 01:00:...|  041XX N KEELER AVE|1130|  DECEPTIVE PRACTICE|FRAUD OR CONFIDEN...|           RESIDENCE| false|   false|1722|    17.0|39.0|          16.0|      11|        NULL|        NULL|2018|04/02/2019 04:10:...|     NULL|      NULL|                NULL|\n",
            "|11646766|   JC214025|01/01/2018 09:10:...| 019XX N KENMORE AVE|1153|  DECEPTIVE PRACTICE|FINANCIAL IDENTIT...|                NULL| false|   false|1811|    18.0|43.0|           7.0|      11|        NULL|        NULL|2018|04/07/2019 04:05:...|     NULL|      NULL|                NULL|\n",
            "|11646447|   JC213946|10/24/2008 02:30:...|036XX N NARRAGANS...|1153|  DECEPTIVE PRACTICE|FINANCIAL IDENTIT...|           APARTMENT| false|   false|1633|    16.0|36.0|          17.0|      11|        NULL|        NULL|2008|04/07/2019 04:05:...|     NULL|      NULL|                NULL|\n",
            "|11646550|   JC214099|10/04/2018 12:00:...|   092XX S PERRY AVE|1120|  DECEPTIVE PRACTICE|             FORGERY|               OTHER| false|   false| 634|     6.0|21.0|          49.0|      10|        NULL|        NULL|2018|04/07/2019 04:05:...|     NULL|      NULL|                NULL|\n",
            "|12010314|   JD186932|03/15/2020 09:00:...|    051XX W HURON ST|2820|       OTHER OFFENSE|    TELEPHONE THREAT|           APARTMENT| false|   false|1531|    15.0|37.0|          25.0|     08A|   1141763.0|   1904131.0|2020|03/22/2020 03:41:...|   41.893|-87.754814|(41.893002363, -8...|\n",
            "|12067286|   JD251718|06/02/2020 10:00:...| 042XX S EMERALD AVE|0820|               THEFT|      $500 AND UNDER|              STREET|  true|   false| 925|     9.0|11.0|          61.0|      06|   1172009.0|   1876708.0|2020|06/09/2020 03:43:...| 41.81714| -87.64454|(41.817138145, -8...|\n",
            "| 4229528|   HL545852|08/12/2005 11:00:...|063XX S COTTAGE G...|3730|INTERFERENCE WITH...| OBSTRUCTING JUSTICE|            SIDEWALK|  true|   false| 312|     3.0|20.0|          42.0|      24|   1182654.0|   1863077.0|2005|02/28/2018 03:56:...| 41.77949| -87.60591|(41.779492755, -8...|\n",
            "|11641640|   JC207466|03/31/2019 12:30:...|   037XX W Ogden Ave|0820|               THEFT|      $500 AND UNDER|       ATHLETIC CLUB| false|   false|1014|    10.0|24.0|          29.0|      06|        NULL|        NULL|2019|04/07/2019 04:05:...|     NULL|      NULL|                NULL|\n",
            "|11644829|   JC211523|04/01/2019 03:00:...|005XX W ARLINGTON PL|0890|               THEFT|       FROM BUILDING|           APARTMENT| false|   false|1935|    19.0|43.0|           7.0|      06|        NULL|        NULL|2019|04/08/2019 04:19:...|     NULL|      NULL|                NULL|\n",
            "|11647549|   JC214237|06/07/2018 03:00:...|102XX S EGGLESTON...|0820|               THEFT|      $500 AND UNDER|               OTHER| false|   false|2232|    22.0| 9.0|          73.0|      06|        NULL|        NULL|2018|04/09/2019 04:17:...|     NULL|      NULL|                NULL|\n",
            "|11646393|   JC213889|12/01/2018 08:00:...|     026XX W 25TH ST|1153|  DECEPTIVE PRACTICE|FINANCIAL IDENTIT...|           RESIDENCE| false|   false|1034|    10.0|24.0|          30.0|      11|        NULL|        NULL|2018|04/07/2019 04:05:...|     NULL|      NULL|                NULL|\n",
            "|11031104|   JA362043|07/24/2008 12:01:...| 031XX W FILLMORE ST|1563|         SEX OFFENSE|CRIMINAL SEXUAL A...|           APARTMENT| false|    true|1134|    11.0|24.0|          29.0|      17|        NULL|        NULL|2008|07/26/2017 03:56:...|     NULL|      NULL|                NULL|\n",
            "|12163191|   JD364357|09/11/2020 10:44:...|008XX N TRUMBULL AVE|0486|             BATTERY|DOMESTIC BATTERY ...|           RESIDENCE|  true|    true|1121|    11.0|27.0|          23.0|     08B|   1153223.0|   1905475.0|2020|09/07/2021 03:41:...| 41.89647|-87.712685|(41.896470682, -8...|\n",
            "|12142075|   JD339709|08/21/2020 12:00:...|015XX N MILWAUKEE...|0420|             BATTERY|AGGRAVATED - KNIF...|            SIDEWALK| false|   false|1424|    14.0| 1.0|          24.0|     04B|   1163078.0|   1910357.0|2020|08/28/2020 03:42:...|41.909664| -87.67635|(41.90966592, -87...|\n",
            "|11647702|   JC214957|02/23/2019 11:00:...|     0000X E 75TH ST|0820|               THEFT|      $500 AND UNDER|       BAR OR TAVERN| false|   false| 623|     6.0| 6.0|          69.0|      06|        NULL|        NULL|2019|04/08/2019 04:19:...|     NULL|      NULL|                NULL|\n",
            "|11642696|   JC209087|04/01/2019 12:00:...|  021XX W Crystal St|0810|               THEFT|           OVER $500|RESIDENCE PORCH/H...| false|   false|1424|    14.0| 2.0|          24.0|      06|        NULL|        NULL|2019|04/08/2019 04:19:...|     NULL|      NULL|                NULL|\n",
            "|11647523|   JC215281|11/11/2018 12:01:...|  016XX W WALLEN AVE|1140|  DECEPTIVE PRACTICE|        EMBEZZLEMENT|           APARTMENT| false|   false|2432|    24.0|49.0|           1.0|      12|        NULL|        NULL|2018|04/08/2019 04:19:...|     NULL|      NULL|                NULL|\n",
            "|11642705|   JC208563|04/01/2019 08:25:...|   026XX N DAYTON ST|2825|       OTHER OFFENSE|HARASSMENT BY TEL...|           RESIDENCE| false|   false|1935|    19.0|43.0|           7.0|      26|        NULL|        NULL|2019|04/08/2019 04:19:...|     NULL|      NULL|                NULL|\n",
            "|11648173|   JC216048|11/01/2018 12:00:...|062XX S MARSHFIEL...|1153|  DECEPTIVE PRACTICE|FINANCIAL IDENTIT...|           APARTMENT| false|   false| 714|     7.0|16.0|          67.0|      11|        NULL|        NULL|2018|04/08/2019 04:19:...|     NULL|      NULL|                NULL|\n",
            "|12005594|   JD181480|03/11/2020 12:00:...|     040XX W 26TH ST|0860|               THEFT|        RETAIL THEFT|  SMALL RETAIL STORE| false|   false|1031|    10.0|22.0|          30.0|      06|   1150021.0|   1886423.0|2020|03/18/2020 03:41:...|41.844254|-87.724945|(41.844252757, -8...|\n",
            "|12070567|   JD249245|06/01/2020 01:20:...|024XX N MILWAUKEE...|0620|            BURGLARY|      UNLAWFUL ENTRY|  SMALL RETAIL STORE| false|   false|1414|    14.0| 1.0|          22.0|      05|   1156086.0|   1916141.0|2020|07/06/2020 03:40:...|41.925682| -87.70188|(41.925681769, -8...|\n",
            "|12057551|   JD240361|05/23/2020 12:20:...| 068XX S LOOMIS BLVD|0486|             BATTERY|DOMESTIC BATTERY ...|              STREET| false|    true| 724|     7.0|17.0|          67.0|     08B|   1168179.0|   1859299.0|2020|09/07/2021 03:41:...|41.769447| -87.65909|(41.769449202, -8...|\n",
            "|12057185|   JD239952|05/22/2020 10:29:...|   0000X N LOREL AVE|2024|           NARCOTICS|POSSESS - HEROIN ...|              STREET|  true|   false|1522|    15.0|28.0|          25.0|      18|   1140721.0|   1899686.0|2020|05/29/2020 03:41:...|41.880825| -87.75875|(41.880823946, -8...|\n",
            "|12107263|   JD298884|07/15/2020 10:15:...| 070XX S CHAPPEL AVE|0560|             ASSAULT|              SIMPLE|           APARTMENT| false|    true| 331|     3.0| 5.0|          43.0|     08A|   1191099.0|   1858560.0|2020|07/22/2020 03:42:...|  41.7669|-87.575096|(41.766897557, -8...|\n",
            "|11445072|   JB415614|08/30/2018 07:45:...| 031XX W HARRISON ST|2027|           NARCOTICS|         POSS: CRACK|POLICE FACILITY/V...|  true|   false|1134|    11.0|24.0|          27.0|      18|        NULL|        NULL|2018|04/13/2019 03:55:...|     NULL|      NULL|                NULL|\n",
            "|11645849|   JC209353|11/27/2018 08:43:...|   0000X E CERMAK RD|2250|LIQUOR LAW VIOLATION|LIQUOR LICENSE VI...| TAVERN/LIQUOR STORE|  true|   false| 131|     1.0| 3.0|          33.0|      22|        NULL|        NULL|2018|04/09/2019 04:17:...|     NULL|      NULL|                NULL|\n",
            "| 1961333|   HH151835|01/27/2002 03:15:...|       024XX W 43 ST|0560|             ASSAULT|              SIMPLE|              STREET| false|   false| 914|     9.0|NULL|          NULL|     08A|        NULL|        NULL|2002|02/04/2016 06:33:...|     NULL|      NULL|                NULL|\n",
            "|11451058|   JB397122|08/17/2018 10:15:...|   038XX W MONROE ST|2014|           NARCOTICS|MANU/DELIVER: HER...|VEHICLE NON-COMME...|  true|   false|1122|    11.0|28.0|          26.0|      18|        NULL|        NULL|2018|04/09/2019 04:24:...|     NULL|      NULL|                NULL|\n",
            "+--------+-----------+--------------------+--------------------+----+--------------------+--------------------+--------------------+------+--------+----+--------+----+--------------+--------+------------+------------+----+--------------------+---------+----------+--------------------+\n",
            "only showing top 50 rows\n",
            "\n"
          ]
        }
      ]
    },
    {
      "cell_type": "markdown",
      "source": [
        "## **4.Clean the data:**\n"
      ],
      "metadata": {
        "id": "URXLNVlfzpRu"
      }
    },
    {
      "cell_type": "markdown",
      "source": [
        "## **a.Remove all null values.**"
      ],
      "metadata": {
        "id": "-_wAT6hFSFCr"
      }
    },
    {
      "cell_type": "code",
      "source": [
        "crime_data = crime_data.dropna()"
      ],
      "metadata": {
        "id": "Fn7gfODmzzYB"
      },
      "execution_count": 9,
      "outputs": []
    },
    {
      "cell_type": "code",
      "source": [
        "# Count the number of rows in the DataFrame aftre dropping null values\n",
        "row_count = crime_data.count()\n",
        "print(\"Number of rows after dropping null values:\", row_count)"
      ],
      "metadata": {
        "colab": {
          "base_uri": "https://localhost:8080/"
        },
        "id": "9S4rrK5kcqoq",
        "outputId": "ef77399d-7553-4d3a-a362-32dc3bb4d148"
      },
      "execution_count": 10,
      "outputs": [
        {
          "output_type": "stream",
          "name": "stdout",
          "text": [
            "Number of rows after dropping null values: 7322843\n"
          ]
        }
      ]
    },
    {
      "cell_type": "markdown",
      "source": [
        "# You could see that after dropping null values no.of rows will be 7322843 previoulsy it was 8026144"
      ],
      "metadata": {
        "id": "TJczo-FbdI2n"
      }
    },
    {
      "cell_type": "markdown",
      "source": [
        "# **b.Change 'Date' column data type**"
      ],
      "metadata": {
        "id": "CLrI9T3QSNEF"
      }
    },
    {
      "cell_type": "code",
      "source": [
        "# Change 'Date' column data type\n",
        "from pyspark.sql.types import TimestampType\n",
        "from pyspark.sql.functions import to_timestamp\n",
        "# Define the date format string\n",
        "date_format = \"MM/dd/yyyy hh:mm:ss a\"\n",
        "\n",
        "# Convert the \"Date\" column to TimestampType with the specified format\n",
        "crime_data = crime_data.withColumn(\"Date\", to_timestamp(\"Date\", date_format))"
      ],
      "metadata": {
        "id": "iUeir5J6A3o-"
      },
      "execution_count": 11,
      "outputs": []
    },
    {
      "cell_type": "code",
      "source": [
        "crime_data.printSchema()"
      ],
      "metadata": {
        "colab": {
          "base_uri": "https://localhost:8080/"
        },
        "id": "2e8D3CQ6TOnF",
        "outputId": "1493aaf3-762a-4e56-8def-4636e226ebf1"
      },
      "execution_count": 12,
      "outputs": [
        {
          "output_type": "stream",
          "name": "stdout",
          "text": [
            "root\n",
            " |-- ID: integer (nullable = true)\n",
            " |-- Case Number: string (nullable = true)\n",
            " |-- Date: timestamp (nullable = true)\n",
            " |-- Block: string (nullable = true)\n",
            " |-- IUCR: string (nullable = true)\n",
            " |-- Primary Type: string (nullable = true)\n",
            " |-- Description: string (nullable = true)\n",
            " |-- Location Description: string (nullable = true)\n",
            " |-- Arrest: boolean (nullable = true)\n",
            " |-- Domestic: boolean (nullable = true)\n",
            " |-- Beat: integer (nullable = true)\n",
            " |-- District: float (nullable = true)\n",
            " |-- Ward: float (nullable = true)\n",
            " |-- Community Area: float (nullable = true)\n",
            " |-- FBI Code: string (nullable = true)\n",
            " |-- X Coordinate: float (nullable = true)\n",
            " |-- Y Coordinate: float (nullable = true)\n",
            " |-- Year: integer (nullable = true)\n",
            " |-- Updated On: string (nullable = true)\n",
            " |-- Latitude: float (nullable = true)\n",
            " |-- Longitude: float (nullable = true)\n",
            " |-- Location: string (nullable = true)\n",
            "\n"
          ]
        }
      ]
    },
    {
      "cell_type": "code",
      "source": [
        "crime_data.show(20)"
      ],
      "metadata": {
        "colab": {
          "base_uri": "https://localhost:8080/"
        },
        "id": "Q09fvIlC5Doq",
        "outputId": "85019bcc-951c-4509-8cce-c2154f2ccf13"
      },
      "execution_count": 13,
      "outputs": [
        {
          "output_type": "stream",
          "name": "stdout",
          "text": [
            "+--------+-----------+-------------------+--------------------+----+--------------------+--------------------+--------------------+------+--------+----+--------+----+--------------+--------+------------+------------+----+--------------------+---------+----------+--------------------+\n",
            "|      ID|Case Number|               Date|               Block|IUCR|        Primary Type|         Description|Location Description|Arrest|Domestic|Beat|District|Ward|Community Area|FBI Code|X Coordinate|Y Coordinate|Year|          Updated On| Latitude| Longitude|            Location|\n",
            "+--------+-----------+-------------------+--------------------+----+--------------------+--------------------+--------------------+------+--------+----+--------+----+--------------+--------+------------+------------+----+--------------------+---------+----------+--------------------+\n",
            "|12045583|   JD226426|2020-05-07 10:24:00| 035XX S INDIANA AVE|0820|               THEFT|      $500 AND UNDER|           APARTMENT| false|   false| 212|     2.0| 3.0|          35.0|      06|   1178180.0|   1881621.0|2020|05/14/2020 08:47:...|41.830482| -87.62175|(41.830481843, -8...|\n",
            "|12031001|   JD209965|2020-04-16 05:00:00|     005XX W 32ND ST|0460|             BATTERY|              SIMPLE|           APARTMENT|  true|   false| 915|     9.0|11.0|          60.0|     08B|   1173292.0|   1883705.0|2020|04/23/2020 03:45:...| 41.83631|-87.639626|(41.836310224, -8...|\n",
            "|12093529|   JD282112|2020-07-01 10:16:00|   081XX S COLES AVE|051A|             ASSAULT|AGGRAVATED - HANDGUN|              STREET|  true|   false| 422|     4.0| 7.0|          46.0|     04A|   1198234.0|   1851595.0|2020|07/08/2020 03:41:...| 41.74761| -87.54918|(41.747609555, -8...|\n",
            "|12178140|   JD381597|2020-09-27 23:29:00| 065XX S WOLCOTT AVE|0460|             BATTERY|              SIMPLE|RESIDENCE - PORCH...| false|   false| 726|     7.0|15.0|          67.0|     08B|   1164812.0|   1861251.0|2020|10/04/2020 03:43:...|41.774876| -87.67137|(41.77487752, -87...|\n",
            "| 4144897|   HL474854|2005-07-10 15:00:00| 062XX S ABERDEEN ST|0430|             BATTERY|AGGRAVATED: OTHER...|              STREET| false|   false| 712|     7.0|16.0|          68.0|     04B|   1170050.0|   1863524.0|2005|02/28/2018 03:56:...|41.781002| -87.65211|(41.781002663, -8...|\n",
            "|12126129|   JD321064|2020-08-04 20:28:00| 081XX S LOOMIS BLVD|143A|   WEAPONS VIOLATION|UNLAWFUL POSSESSI...|              STREET|  true|   false| 613|     6.0|21.0|          71.0|      15|   1168412.0|   1850836.0|2020|08/11/2020 03:42:...| 41.74622| -87.65848|(41.746220584, -8...|\n",
            "|12010314|   JD186932|2020-03-15 21:00:00|    051XX W HURON ST|2820|       OTHER OFFENSE|    TELEPHONE THREAT|           APARTMENT| false|   false|1531|    15.0|37.0|          25.0|     08A|   1141763.0|   1904131.0|2020|03/22/2020 03:41:...|   41.893|-87.754814|(41.893002363, -8...|\n",
            "|12067286|   JD251718|2020-06-02 22:00:00| 042XX S EMERALD AVE|0820|               THEFT|      $500 AND UNDER|              STREET|  true|   false| 925|     9.0|11.0|          61.0|      06|   1172009.0|   1876708.0|2020|06/09/2020 03:43:...| 41.81714| -87.64454|(41.817138145, -8...|\n",
            "| 4229528|   HL545852|2005-08-12 23:00:00|063XX S COTTAGE G...|3730|INTERFERENCE WITH...| OBSTRUCTING JUSTICE|            SIDEWALK|  true|   false| 312|     3.0|20.0|          42.0|      24|   1182654.0|   1863077.0|2005|02/28/2018 03:56:...| 41.77949| -87.60591|(41.779492755, -8...|\n",
            "|12163191|   JD364357|2020-09-11 22:44:00|008XX N TRUMBULL AVE|0486|             BATTERY|DOMESTIC BATTERY ...|           RESIDENCE|  true|    true|1121|    11.0|27.0|          23.0|     08B|   1153223.0|   1905475.0|2020|09/07/2021 03:41:...| 41.89647|-87.712685|(41.896470682, -8...|\n",
            "|12142075|   JD339709|2020-08-21 00:00:00|015XX N MILWAUKEE...|0420|             BATTERY|AGGRAVATED - KNIF...|            SIDEWALK| false|   false|1424|    14.0| 1.0|          24.0|     04B|   1163078.0|   1910357.0|2020|08/28/2020 03:42:...|41.909664| -87.67635|(41.90966592, -87...|\n",
            "|12005594|   JD181480|2020-03-11 00:00:00|     040XX W 26TH ST|0860|               THEFT|        RETAIL THEFT|  SMALL RETAIL STORE| false|   false|1031|    10.0|22.0|          30.0|      06|   1150021.0|   1886423.0|2020|03/18/2020 03:41:...|41.844254|-87.724945|(41.844252757, -8...|\n",
            "|12070567|   JD249245|2020-06-01 01:20:00|024XX N MILWAUKEE...|0620|            BURGLARY|      UNLAWFUL ENTRY|  SMALL RETAIL STORE| false|   false|1414|    14.0| 1.0|          22.0|      05|   1156086.0|   1916141.0|2020|07/06/2020 03:40:...|41.925682| -87.70188|(41.925681769, -8...|\n",
            "|12057551|   JD240361|2020-05-23 12:20:00| 068XX S LOOMIS BLVD|0486|             BATTERY|DOMESTIC BATTERY ...|              STREET| false|    true| 724|     7.0|17.0|          67.0|     08B|   1168179.0|   1859299.0|2020|09/07/2021 03:41:...|41.769447| -87.65909|(41.769449202, -8...|\n",
            "|12057185|   JD239952|2020-05-22 22:29:00|   0000X N LOREL AVE|2024|           NARCOTICS|POSSESS - HEROIN ...|              STREET|  true|   false|1522|    15.0|28.0|          25.0|      18|   1140721.0|   1899686.0|2020|05/29/2020 03:41:...|41.880825| -87.75875|(41.880823946, -8...|\n",
            "|12107263|   JD298884|2020-07-15 22:15:00| 070XX S CHAPPEL AVE|0560|             ASSAULT|              SIMPLE|           APARTMENT| false|    true| 331|     3.0| 5.0|          43.0|     08A|   1191099.0|   1858560.0|2020|07/22/2020 03:42:...|  41.7669|-87.575096|(41.766897557, -8...|\n",
            "|12178347|   JD382022|2020-09-28 10:23:00|038XX W JACKSON BLVD|2820|       OTHER OFFENSE|    TELEPHONE THREAT|     OTHER (SPECIFY)| false|   false|1133|    11.0|28.0|          26.0|     08A|   1150770.0|   1898411.0|2020|10/05/2020 03:40:...|41.877136| -87.72188|(41.877134658, -8...|\n",
            "|12164381|   JD361415|2020-09-09 09:23:00|  081XX S VERNON AVE|0560|             ASSAULT|              SIMPLE|           RESIDENCE| false|   false| 631|     6.0| 6.0|          44.0|     08A|   1180660.0|   1851072.0|2020|09/16/2020 03:41:...|41.746597|-87.613594|(41.746595831, -8...|\n",
            "|12072697|   JD257284|2020-06-06 07:45:00|065XX S UNIVERSIT...|2820|       OTHER OFFENSE|    TELEPHONE THREAT|     OTHER (SPECIFY)| false|   false| 321|     3.0| 5.0|          42.0|     08A|   1184679.0|   1861785.0|2020|06/13/2020 03:42:...|  41.7759|-87.598526|(41.775900146, -8...|\n",
            "|12126191|   JD321188|2020-08-05 01:00:00|025XX S MICHIGAN AVE|0454|             BATTERY|AGGRAVATED P.O. -...|HOSPITAL BUILDING...|  true|   false| 133|     1.0| 4.0|          33.0|     08B|   1177647.0|   1887564.0|2020|08/12/2020 03:41:...|  41.8468| -87.62353|(41.846801978, -8...|\n",
            "+--------+-----------+-------------------+--------------------+----+--------------------+--------------------+--------------------+------+--------+----+--------+----+--------------+--------+------------+------------+----+--------------------+---------+----------+--------------------+\n",
            "only showing top 20 rows\n",
            "\n"
          ]
        }
      ]
    },
    {
      "cell_type": "markdown",
      "source": [
        "# Datatype of date will be changed to timestampType"
      ],
      "metadata": {
        "id": "ESQBkJEtdnPW"
      }
    },
    {
      "cell_type": "markdown",
      "source": [
        "# **5.Filter the data for last ten years.**"
      ],
      "metadata": {
        "id": "xz_4Xm3-A_qh"
      }
    },
    {
      "cell_type": "code",
      "source": [
        "# Filter the data for the last ten years\n",
        "current_year = 2024\n",
        "crime_data_last_ten_years = crime_data.filter(year(\"Date\") >= (current_year - 10))"
      ],
      "metadata": {
        "id": "Ud3GgSMYA7Qm"
      },
      "execution_count": 14,
      "outputs": []
    },
    {
      "cell_type": "code",
      "source": [
        "crime_data.show(100)"
      ],
      "metadata": {
        "colab": {
          "base_uri": "https://localhost:8080/"
        },
        "id": "A3y_fRhETC2w",
        "outputId": "c26715d4-f400-4af5-8537-fe429a3eeb2a"
      },
      "execution_count": 15,
      "outputs": [
        {
          "output_type": "stream",
          "name": "stdout",
          "text": [
            "+--------+-----------+-------------------+--------------------+----+--------------------+--------------------+--------------------+------+--------+----+--------+----+--------------+--------+------------+------------+----+--------------------+---------+----------+--------------------+\n",
            "|      ID|Case Number|               Date|               Block|IUCR|        Primary Type|         Description|Location Description|Arrest|Domestic|Beat|District|Ward|Community Area|FBI Code|X Coordinate|Y Coordinate|Year|          Updated On| Latitude| Longitude|            Location|\n",
            "+--------+-----------+-------------------+--------------------+----+--------------------+--------------------+--------------------+------+--------+----+--------+----+--------------+--------+------------+------------+----+--------------------+---------+----------+--------------------+\n",
            "|12045583|   JD226426|2020-05-07 10:24:00| 035XX S INDIANA AVE|0820|               THEFT|      $500 AND UNDER|           APARTMENT| false|   false| 212|     2.0| 3.0|          35.0|      06|   1178180.0|   1881621.0|2020|05/14/2020 08:47:...|41.830482| -87.62175|(41.830481843, -8...|\n",
            "|12031001|   JD209965|2020-04-16 05:00:00|     005XX W 32ND ST|0460|             BATTERY|              SIMPLE|           APARTMENT|  true|   false| 915|     9.0|11.0|          60.0|     08B|   1173292.0|   1883705.0|2020|04/23/2020 03:45:...| 41.83631|-87.639626|(41.836310224, -8...|\n",
            "|12093529|   JD282112|2020-07-01 10:16:00|   081XX S COLES AVE|051A|             ASSAULT|AGGRAVATED - HANDGUN|              STREET|  true|   false| 422|     4.0| 7.0|          46.0|     04A|   1198234.0|   1851595.0|2020|07/08/2020 03:41:...| 41.74761| -87.54918|(41.747609555, -8...|\n",
            "|12178140|   JD381597|2020-09-27 23:29:00| 065XX S WOLCOTT AVE|0460|             BATTERY|              SIMPLE|RESIDENCE - PORCH...| false|   false| 726|     7.0|15.0|          67.0|     08B|   1164812.0|   1861251.0|2020|10/04/2020 03:43:...|41.774876| -87.67137|(41.77487752, -87...|\n",
            "| 4144897|   HL474854|2005-07-10 15:00:00| 062XX S ABERDEEN ST|0430|             BATTERY|AGGRAVATED: OTHER...|              STREET| false|   false| 712|     7.0|16.0|          68.0|     04B|   1170050.0|   1863524.0|2005|02/28/2018 03:56:...|41.781002| -87.65211|(41.781002663, -8...|\n",
            "|12126129|   JD321064|2020-08-04 20:28:00| 081XX S LOOMIS BLVD|143A|   WEAPONS VIOLATION|UNLAWFUL POSSESSI...|              STREET|  true|   false| 613|     6.0|21.0|          71.0|      15|   1168412.0|   1850836.0|2020|08/11/2020 03:42:...| 41.74622| -87.65848|(41.746220584, -8...|\n",
            "|12010314|   JD186932|2020-03-15 21:00:00|    051XX W HURON ST|2820|       OTHER OFFENSE|    TELEPHONE THREAT|           APARTMENT| false|   false|1531|    15.0|37.0|          25.0|     08A|   1141763.0|   1904131.0|2020|03/22/2020 03:41:...|   41.893|-87.754814|(41.893002363, -8...|\n",
            "|12067286|   JD251718|2020-06-02 22:00:00| 042XX S EMERALD AVE|0820|               THEFT|      $500 AND UNDER|              STREET|  true|   false| 925|     9.0|11.0|          61.0|      06|   1172009.0|   1876708.0|2020|06/09/2020 03:43:...| 41.81714| -87.64454|(41.817138145, -8...|\n",
            "| 4229528|   HL545852|2005-08-12 23:00:00|063XX S COTTAGE G...|3730|INTERFERENCE WITH...| OBSTRUCTING JUSTICE|            SIDEWALK|  true|   false| 312|     3.0|20.0|          42.0|      24|   1182654.0|   1863077.0|2005|02/28/2018 03:56:...| 41.77949| -87.60591|(41.779492755, -8...|\n",
            "|12163191|   JD364357|2020-09-11 22:44:00|008XX N TRUMBULL AVE|0486|             BATTERY|DOMESTIC BATTERY ...|           RESIDENCE|  true|    true|1121|    11.0|27.0|          23.0|     08B|   1153223.0|   1905475.0|2020|09/07/2021 03:41:...| 41.89647|-87.712685|(41.896470682, -8...|\n",
            "|12142075|   JD339709|2020-08-21 00:00:00|015XX N MILWAUKEE...|0420|             BATTERY|AGGRAVATED - KNIF...|            SIDEWALK| false|   false|1424|    14.0| 1.0|          24.0|     04B|   1163078.0|   1910357.0|2020|08/28/2020 03:42:...|41.909664| -87.67635|(41.90966592, -87...|\n",
            "|12005594|   JD181480|2020-03-11 00:00:00|     040XX W 26TH ST|0860|               THEFT|        RETAIL THEFT|  SMALL RETAIL STORE| false|   false|1031|    10.0|22.0|          30.0|      06|   1150021.0|   1886423.0|2020|03/18/2020 03:41:...|41.844254|-87.724945|(41.844252757, -8...|\n",
            "|12070567|   JD249245|2020-06-01 01:20:00|024XX N MILWAUKEE...|0620|            BURGLARY|      UNLAWFUL ENTRY|  SMALL RETAIL STORE| false|   false|1414|    14.0| 1.0|          22.0|      05|   1156086.0|   1916141.0|2020|07/06/2020 03:40:...|41.925682| -87.70188|(41.925681769, -8...|\n",
            "|12057551|   JD240361|2020-05-23 12:20:00| 068XX S LOOMIS BLVD|0486|             BATTERY|DOMESTIC BATTERY ...|              STREET| false|    true| 724|     7.0|17.0|          67.0|     08B|   1168179.0|   1859299.0|2020|09/07/2021 03:41:...|41.769447| -87.65909|(41.769449202, -8...|\n",
            "|12057185|   JD239952|2020-05-22 22:29:00|   0000X N LOREL AVE|2024|           NARCOTICS|POSSESS - HEROIN ...|              STREET|  true|   false|1522|    15.0|28.0|          25.0|      18|   1140721.0|   1899686.0|2020|05/29/2020 03:41:...|41.880825| -87.75875|(41.880823946, -8...|\n",
            "|12107263|   JD298884|2020-07-15 22:15:00| 070XX S CHAPPEL AVE|0560|             ASSAULT|              SIMPLE|           APARTMENT| false|    true| 331|     3.0| 5.0|          43.0|     08A|   1191099.0|   1858560.0|2020|07/22/2020 03:42:...|  41.7669|-87.575096|(41.766897557, -8...|\n",
            "|12178347|   JD382022|2020-09-28 10:23:00|038XX W JACKSON BLVD|2820|       OTHER OFFENSE|    TELEPHONE THREAT|     OTHER (SPECIFY)| false|   false|1133|    11.0|28.0|          26.0|     08A|   1150770.0|   1898411.0|2020|10/05/2020 03:40:...|41.877136| -87.72188|(41.877134658, -8...|\n",
            "|12164381|   JD361415|2020-09-09 09:23:00|  081XX S VERNON AVE|0560|             ASSAULT|              SIMPLE|           RESIDENCE| false|   false| 631|     6.0| 6.0|          44.0|     08A|   1180660.0|   1851072.0|2020|09/16/2020 03:41:...|41.746597|-87.613594|(41.746595831, -8...|\n",
            "|12072697|   JD257284|2020-06-06 07:45:00|065XX S UNIVERSIT...|2820|       OTHER OFFENSE|    TELEPHONE THREAT|     OTHER (SPECIFY)| false|   false| 321|     3.0| 5.0|          42.0|     08A|   1184679.0|   1861785.0|2020|06/13/2020 03:42:...|  41.7759|-87.598526|(41.775900146, -8...|\n",
            "|12126191|   JD321188|2020-08-05 01:00:00|025XX S MICHIGAN AVE|0454|             BATTERY|AGGRAVATED P.O. -...|HOSPITAL BUILDING...|  true|   false| 133|     1.0| 4.0|          33.0|     08B|   1177647.0|   1887564.0|2020|08/12/2020 03:41:...|  41.8468| -87.62353|(41.846801978, -8...|\n",
            "|12018869|   JD196508|2020-03-27 23:20:00|066XX S SPAULDING...|141A|   WEAPONS VIOLATION|UNLAWFUL USE - HA...|              STREET| false|   false| 831|     8.0|15.0|          66.0|      15|   1155539.0|   1860219.0|2020|04/03/2020 03:58:...|41.772236|  -87.7054|(41.772236394, -8...|\n",
            "|12068919|   JD253635|2020-06-04 14:15:00| 010XX W DIVISION ST|2820|       OTHER OFFENSE|    TELEPHONE THREAT|     OTHER (SPECIFY)| false|   false|1822|    18.0|27.0|           8.0|     08A|   1169314.0|   1908181.0|2020|06/11/2020 03:42:...| 41.90356| -87.65351|(41.903561493, -8...|\n",
            "|12044629|   JD225380|2020-05-05 22:00:00|   079XX S THROOP ST|0810|               THEFT|           OVER $500|              STREET| false|   false| 612|     6.0|21.0|          71.0|      06|   1169042.0|   1851982.0|2020|05/12/2020 03:42:...| 41.74935|-87.656136|(41.749351783, -8...|\n",
            "|12157580|   JD357987|2020-09-05 23:50:00| 022XX W MAYPOLE AVE|0486|             BATTERY|DOMESTIC BATTERY ...|       CHA APARTMENT| false|    true|1223|    12.0|27.0|          28.0|     08B|   1161251.0|   1900967.0|2020|09/12/2020 03:41:...|41.883938| -87.68333|(41.883937205, -8...|\n",
            "|12045468|   JD225478|2020-05-05 22:00:00|    104XX S AVENUE M|0910| MOTOR VEHICLE THEFT|          AUTOMOBILE|DRIVEWAY - RESIDE...| false|   false| 432|     4.0|10.0|          52.0|      07|   1201505.0|   1836426.0|2020|05/12/2020 03:42:...|41.705902|-87.537704|(41.705902269, -8...|\n",
            "|12132877|   JD329246|2020-08-12 02:20:00|102XX S DR MARTIN...|1310|     CRIMINAL DAMAGE|         TO PROPERTY|           RESIDENCE| false|   false| 511|     5.0| 9.0|          49.0|      14|   1180720.0|   1837168.0|2020|08/19/2020 03:51:...| 41.70844|  -87.6138|(41.708440181, -8...|\n",
            "|12097474|   JD287186|2020-07-05 17:18:00| 007XX N CENTRAL AVE|0454|             BATTERY|AGGRAVATED P.O. -...|              STREET|  true|    true|1511|    15.0|29.0|          25.0|     08B|   1138896.0|   1904260.0|2020|09/07/2021 03:41:...| 41.89341|-87.765335|(41.893408918, -8...|\n",
            "|12005082|   JD180933|2020-03-10 15:40:00|     016XX W 63RD ST|0486|             BATTERY|DOMESTIC BATTERY ...|              STREET| false|    true| 714|     7.0|16.0|          67.0|     08B|   1166666.0|   1862932.0|2020|03/17/2020 03:41:...| 41.77945| -87.66453|(41.779451037, -8...|\n",
            "|12007650|   JD183972|2020-03-12 20:00:00|  092XX S LUELLA AVE|1320|     CRIMINAL DAMAGE|          TO VEHICLE|              STREET| false|   false| 413|     4.0| 7.0|          48.0|      14|   1192789.0|   1843974.0|2020|03/19/2020 03:45:...| 41.72683| -87.56938|(41.726831283, -8...|\n",
            "|12153480|   JD353103|2020-08-20 10:00:00|    087XX S STATE ST|1120|  DECEPTIVE PRACTICE|             FORGERY|                BANK| false|   false| 632|     6.0|21.0|          44.0|      10|   1177810.0|   1847135.0|2020|09/04/2020 03:39:...| 41.73586| -87.62415|(41.735857166, -8...|\n",
            "|12038537|   JD218490|2020-04-27 10:00:00|   048XX W HIRSCH ST|1153|  DECEPTIVE PRACTICE|FINANCIAL IDENTIT...|           RESIDENCE| false|   false|2533|    25.0|37.0|          25.0|      11|   1143843.0|   1908874.0|2020|05/04/2020 03:42:...| 41.90598|-87.747055|(41.90597895, -87...|\n",
            "|12028031|   JD204153|2020-04-07 16:50:00|064XX S DR MARTIN...|0420|             BATTERY|AGGRAVATED - KNIF...|PARKING LOT / GAR...| false|   false| 312|     3.0|20.0|          42.0|     04B|   1180025.0|   1862499.0|2020|04/15/2020 03:40:...|41.777966| -87.61557|(41.777967289, -8...|\n",
            "|12149106|   JD346721|2020-08-27 01:00:00|057XX S MICHIGAN AVE|0810|               THEFT|           OVER $500|              STREET| false|   false| 232|     2.0|20.0|          40.0|      06|   1178134.0|   1867092.0|2020|09/03/2020 03:42:...|41.790615| -87.62236|(41.790614044, -8...|\n",
            "|12130216|   JD325560|2020-08-08 22:10:00| 029XX W HARRISON ST|1310|     CRIMINAL DAMAGE|         TO PROPERTY|       CHA APARTMENT| false|    true|1135|    11.0|27.0|          27.0|      14|   1156794.0|   1897225.0|2020|08/15/2020 03:43:...| 41.87376|  -87.6998|(41.873760261, -8...|\n",
            "|12155951|   JD356001|2020-09-02 14:00:00|   001XX W GOETHE ST|1320|     CRIMINAL DAMAGE|          TO VEHICLE|              STREET| false|   false|1821|    18.0| 2.0|           8.0|      14|   1175214.0|   1909036.0|2020|09/09/2020 03:41:...|41.905777| -87.63181|(41.905777306, -8...|\n",
            "|12021433|   JD199345|2020-04-01 00:00:00|050XX W WASHINGTO...|1310|     CRIMINAL DAMAGE|         TO PROPERTY|           RESIDENCE| false|   false|1532|    15.0|28.0|          25.0|      14|   1142697.0|   1900032.0|2020|04/08/2020 03:43:...|41.881737| -87.75148|(41.88173688, -87...|\n",
            "|12175074|   JD377353|2020-09-18 17:00:00|  007XX W ADDISON ST|0890|               THEFT|       FROM BUILDING|           APARTMENT| false|   false|1925|    19.0|46.0|           6.0|      06|   1170599.0|   1924135.0|2020|09/27/2020 03:40:...| 41.94731| -87.64832|(41.947311989, -8...|\n",
            "|12110981|   JD303391|2020-07-20 01:30:00|     007XX E 47TH ST|0498|             BATTERY|AGG. DOMESTIC BAT...|           APARTMENT| false|    true| 223|     2.0| 4.0|          38.0|     04B|   1182174.0|   1874015.0|2020|07/28/2020 03:45:...|41.809517| -87.60733|(41.809518699, -8...|\n",
            "|12036246|   JD215867|2020-04-23 12:00:00| 085XX S CALUMET AVE|0890|               THEFT|       FROM BUILDING|           APARTMENT| false|   false| 632|     6.0| 6.0|          44.0|      06|   1179963.0|   1848497.0|2020|04/30/2020 03:42:...|41.739544| -87.61623|(41.739545702, -8...|\n",
            "|12122483|   JD316923|2020-07-31 23:15:00|021XX N SPRINGFIE...|0486|             BATTERY|DOMESTIC BATTERY ...|           APARTMENT| false|    true|2525|    25.0|26.0|          22.0|     08B|   1150028.0|   1914088.0|2020|08/07/2020 03:42:...| 41.92017|  -87.7242|(41.920168413, -8...|\n",
            "|12098557|   JD288415|2019-02-01 00:01:00|     025XX W 50TH ST|0460|             BATTERY|              SIMPLE|           RESIDENCE| false|    true| 923|     9.0|14.0|          63.0|     08B|   1160373.0|   1871438.0|2019|07/09/2020 03:44:...|41.802925| -87.68737|(41.802924631, -8...|\n",
            "|12146876|   JD345261|2020-08-10 08:30:00|    030XX N CLARK ST|0910| MOTOR VEHICLE THEFT|          AUTOMOBILE|              STREET| false|   false|1934|    19.0|44.0|           6.0|      07|   1170665.0|   1920334.0|2020|08/28/2020 03:40:...|41.936882| -87.64819|(41.936880447, -8...|\n",
            "|12041702|   JD221976|2020-05-02 02:23:00|033XX W EVERGREEN...|0486|             BATTERY|DOMESTIC BATTERY ...|           APARTMENT| false|    true|1422|    14.0|26.0|          23.0|     08B|   1153807.0|   1908780.0|2020|09/07/2021 03:41:...| 41.90553| -87.71046|(41.905528298, -8...|\n",
            "|12000109|   JD174679|2020-03-05 09:57:00|  003XX S WHIPPLE ST|041A|             BATTERY|AGGRAVATED - HANDGUN|              STREET| false|   false|1124|    11.0|28.0|          27.0|     04B|   1156097.0|   1898378.0|2020|04/12/2020 03:39:...|41.876938|-87.702324|(41.876938298, -8...|\n",
            "|12104622|   JD295698|2020-07-13 09:15:00|  073XX N HARLEM AVE|0486|             BATTERY|DOMESTIC BATTERY ...|           APARTMENT| false|    true|1611|    16.0|41.0|           9.0|     08B|   1127389.0|   1948313.0|2020|07/20/2020 03:42:...|42.014496|  -87.8066|(42.014496646, -8...|\n",
            "|12050620|   JD232293|2020-05-14 15:00:00|071XX S JEFFERY BLVD|0860|               THEFT|        RETAIL THEFT|  GROCERY FOOD STORE| false|   false| 333|     3.0| 5.0|          43.0|      06|   1190776.0|   1858184.0|2020|05/21/2020 04:30:...|41.765873|-87.576294|(41.76587359, -87...|\n",
            "|12049191|   JD230710|2020-05-07 00:00:00|  020XX W BERWYN AVE|0890|               THEFT|       FROM BUILDING|           APARTMENT| false|   false|2012|    20.0|40.0|           4.0|      06|   1161850.0|   1935191.0|2020|05/15/2020 03:40:...|41.977837| -87.68017|(41.977837548, -8...|\n",
            "| 4607506|   HM202388|2006-02-26 16:00:00|    031XX N CLARK ST|0860|               THEFT|        RETAIL THEFT|          DRUG STORE| false|   false|2332|    19.0|44.0|           6.0|      06|   1170435.0|   1920711.0|2006|02/28/2018 03:56:...| 41.93792|-87.649025|(41.937919992, -8...|\n",
            "|12087612|   JD275416|2020-06-25 02:25:00|066XX S MARSHFIEL...|4387|       OTHER OFFENSE|VIOLATE ORDER OF ...|           RESIDENCE| false|    true| 725|     7.0|15.0|          67.0|      26|   1166469.0|   1860688.0|2020|07/02/2020 03:42:...|41.773296| -87.66531|(41.773297415, -8...|\n",
            "|12089476|   JD277683|2020-06-27 04:00:00|071XX S WENTWORTH...|1320|     CRIMINAL DAMAGE|          TO VEHICLE|              STREET| false|   false| 731|     7.0| 6.0|          69.0|      14|   1176194.0|   1857700.0|2020|07/04/2020 03:40:...|41.764885| -87.62975|(41.764885191, -8...|\n",
            "|12149005|   JD347683|2020-08-28 00:39:00|032XX W SUNNYSIDE...|2826|       OTHER OFFENSE|HARASSMENT BY ELE...|RESIDENCE - PORCH...| false|    true|1724|    17.0|33.0|          14.0|      26|   1154121.0|   1929729.0|2020|09/04/2020 03:40:...| 41.96301| -87.70874|(41.963007697, -8...|\n",
            "|12134824|   JD331452|2020-08-07 21:00:00|085XX W WINNEMAC AVE|0820|               THEFT|      $500 AND UNDER|           APARTMENT| false|   false|1614|    16.0|41.0|          76.0|      06|   1118488.0|   1932385.0|2020|08/16/2020 03:40:...|41.970936|  -87.8397|(41.97093409, -87...|\n",
            "|12020470|   JD198186|2020-03-30 11:45:00| 100XX S CALUMET AVE|0486|             BATTERY|DOMESTIC BATTERY ...|              STREET|  true|    true| 511|     5.0| 9.0|          49.0|     08B|   1180354.0|   1838395.0|2020|04/06/2020 04:24:...|41.711815|  -87.6151|(41.711815615, -8...|\n",
            "|12088804|   JD276774|2020-03-16 12:00:00|   082XX S EVANS AVE|1152|  DECEPTIVE PRACTICE|ILLEGAL USE CASH ...|           RESIDENCE| false|   false| 631|     6.0| 8.0|          44.0|      11|   1182664.0|   1850427.0|2020|07/01/2020 03:39:...| 41.74478| -87.60627|(41.744779647, -8...|\n",
            "|12126442|   JD321318|2020-08-05 08:06:00|    070XX S GREEN ST|1320|     CRIMINAL DAMAGE|          TO VEHICLE|              STREET|  true|   false| 733|     7.0| 6.0|          68.0|      14|   1171849.0|   1858223.0|2020|08/12/2020 03:41:...| 41.76642| -87.64567|(41.766416791, -8...|\n",
            "|12078013|   JD264055|2020-06-14 16:29:00|052XX W IRVING PA...|0496|             BATTERY|AGGRAVATED DOMEST...|MEDICAL / DENTAL ...| false|    true|1624|    16.0|38.0|          15.0|     04B|   1140662.0|   1926091.0|2020|06/21/2020 03:41:...| 41.95328|-87.758316|(41.953283248, -8...|\n",
            "| 6469905|   HP544270|2008-08-30 20:15:00|   064XX S LOREL AVE|0460|             BATTERY|              SIMPLE|              STREET| false|   false| 813|     8.0|13.0|          64.0|     08B|   1141844.0|   1861455.0|2008|02/28/2018 03:56:...| 41.77589| -87.75557|(41.775891618, -8...|\n",
            "|12200242|   JD407316|2020-10-22 05:00:00|  045XX S JUSTINE ST|1310|     CRIMINAL DAMAGE|         TO PROPERTY|           RESIDENCE|  true|   false| 924|     9.0|15.0|          61.0|      14|   1166765.0|   1874626.0|2020|12/17/2020 03:40:...| 41.81154| -87.66383|(41.811538648, -8...|\n",
            "|12171016|   JD373387|2020-09-20 12:25:00|  060XX S PULASKI RD|0560|             ASSAULT|              SIMPLE|              STREET| false|   false| 813|     8.0|23.0|          65.0|     08A|   1150732.0|   1864430.0|2020|09/27/2020 03:42:...|41.783886| -87.72291|(41.783887007, -8...|\n",
            "|12042961|   JD222711|2020-05-02 22:21:00|   049XX W STRONG ST|0486|             BATTERY|DOMESTIC BATTERY ...|           RESIDENCE| false|    true|1623|    16.0|45.0|          12.0|     08B|   1142315.0|   1932451.0|2020|05/09/2020 03:41:...|41.970707| -87.75208|(41.970705035, -8...|\n",
            "|12204230|   JD411942|2020-10-26 15:33:00|   048XX N DAMEN AVE|0610|            BURGLARY|      FORCIBLE ENTRY|          DRUG STORE| false|   false|2032|    20.0|47.0|           4.0|      05|   1162138.0|   1932049.0|2020|12/17/2020 03:40:...| 41.96921|  -87.6792|(41.969209738, -8...|\n",
            "|12096130|   JD284519|2020-07-03 09:00:00|   028XX W NORTH AVE|1780|OFFENSE INVOLVING...|       OTHER OFFENSE|           APARTMENT| false|    true|1421|    14.0| 1.0|          24.0|      20|   1157332.0|   1910513.0|2020|07/10/2020 03:41:...|41.910213| -87.69746|(41.910212826, -8...|\n",
            "|12010013|   JD186638|2020-03-14 22:00:00| 062XX W GIDDINGS ST|1320|     CRIMINAL DAMAGE|          TO VEHICLE|              STREET| false|   false|1622|    16.0|38.0|          15.0|      14|   1133796.0|   1930893.0|2020|03/21/2020 04:10:...|41.966583| -87.78344|(41.96658406, -87...|\n",
            "|12095243|   JD284332|2020-07-03 09:00:00|    116XX S HALE AVE|0520|             ASSAULT|AGGRAVATED - KNIF...|           RESIDENCE| false|    true|2212|    22.0|34.0|          75.0|     04A|   1164717.0|   1827379.0|2020|07/10/2020 03:41:...| 41.68193|-87.672676|(41.681929492, -8...|\n",
            "|12170729|   JD373073|2020-09-20 02:00:00|  103XX S SAWYER AVE|0860|               THEFT|        RETAIL THEFT|   CONVENIENCE STORE| false|   false|2211|    22.0|19.0|          74.0|      06|   1156494.0|   1835986.0|2020|09/27/2020 03:42:...| 41.70572|-87.702545|(41.705717816, -8...|\n",
            "|12143031|   JD340821|2020-08-21 23:50:00|   021XX N NAGLE AVE|1320|     CRIMINAL DAMAGE|          TO VEHICLE|              STREET| false|   false|2512|    25.0|36.0|          19.0|      14|   1133066.0|   1913596.0|2020|08/28/2020 03:42:...|41.919132| -87.78653|(41.919132008, -8...|\n",
            "|12050611|   JD232271|2020-04-26 09:00:00|061XX S SPAULDING...|5002|       OTHER OFFENSE|OTHER VEHICLE OFF...|     OTHER (SPECIFY)| false|   false| 823|     8.0|23.0|          66.0|      26|   1155451.0|   1863545.0|2020|05/17/2020 03:40:...|41.781364| -87.70563|(41.781365201, -8...|\n",
            "|12111690|   JD304327|2020-07-20 13:06:00|     015XX E 61ST ST|2826|       OTHER OFFENSE|HARASSMENT BY ELE...|           RESIDENCE| false|    true| 314|     3.0| 5.0|          42.0|      26|   1187395.0|   1864694.0|2020|07/27/2020 04:43:...|41.783817| -87.58848|(41.783818566, -8...|\n",
            "|12192111|   JD397723|2020-10-13 08:01:00|   013XX S LOOMIS ST|041A|             BATTERY|AGGRAVATED - HANDGUN|CHA PARKING LOT /...| false|   false|1233|    12.0|28.0|          28.0|     04B|   1167250.0|   1893946.0|2020|10/20/2020 03:42:...|41.864544|  -87.6615|(41.864544223, -8...|\n",
            "|12192270|   JD394585|2020-10-10 03:15:00|     001XX W LAKE ST|0460|             BATTERY|              SIMPLE|           CTA TRAIN| false|   false| 122|     1.0|42.0|          32.0|     08B|   1175334.0|   1901735.0|2020|10/17/2020 03:40:...|41.885742| -87.63159|(41.885740288, -8...|\n",
            "|12135738|   JD332030|2020-08-12 13:20:00|     005XX E 32ND ST|2825|       OTHER OFFENSE|HARASSMENT BY TEL...|           APARTMENT| false|   false| 211|     2.0| 4.0|          35.0|      26|   1180539.0|   1883677.0|2020|08/19/2020 03:51:...| 41.83607| -87.61304|(41.836069707, -8...|\n",
            "|12049413|   JD230031|2020-05-11 21:55:00|   039XX W THOMAS ST|0440|             BATTERY|AGGRAVATED - HAND...|              STREET| false|   false|1112|    11.0|37.0|          23.0|     08B|   1150101.0|   1907054.0|2020|05/19/2020 03:40:...|41.900864| -87.72411|(41.90086502, -87...|\n",
            "|12025332|   JD203712|2020-04-07 04:50:00|011XX S MICHIGAN AVE|0810|               THEFT|           OVER $500|       HOTEL / MOTEL| false|   false| 123|     1.0| 4.0|          32.0|      06|   1177417.0|   1895669.0|2020|04/14/2020 03:43:...| 41.86905| -87.62412|(41.869047845, -8...|\n",
            "|12142104|   JD338656|2020-08-19 21:45:00|   019XX W OGDEN AVE|0820|               THEFT|      $500 AND UNDER|              STREET| false|   false|1225|    12.0|28.0|          28.0|      06|   1163312.0|   1897077.0|2020|08/26/2020 03:42:...| 41.87322|-87.675865|(41.873219626, -8...|\n",
            "|12002629|   JD177990|2020-03-08 00:01:00| 113XX S INDIANA AVE|5000|       OTHER OFFENSE|OTHER CRIME AGAIN...|           APARTMENT|  true|   false| 531|     5.0| 9.0|          49.0|      26|   1179595.0|   1829777.0|2020|03/15/2020 03:42:...|41.688183| -87.61814|(41.688183975, -8...|\n",
            "|12023864|   JD202132|2020-04-04 17:19:00|039XX S MICHIGAN AVE|1121|  DECEPTIVE PRACTICE|COUNTERFEITING DO...|       HOTEL / MOTEL| false|   false| 213|     2.0| 3.0|          38.0|      10|   1177806.0|   1879008.0|2020|04/11/2020 03:42:...| 41.82332|  -87.6232|(41.823320055, -8...|\n",
            "|12110093|   JD302399|2020-07-19 03:00:00|001XX S LEAMINGTO...|0486|             BATTERY|DOMESTIC BATTERY ...|           APARTMENT| false|    true|1533|    15.0|28.0|          25.0|     08B|   1142152.0|   1899093.0|2020|07/26/2020 03:41:...| 41.87917| -87.75351|(41.879170269, -8...|\n",
            "|12020628|   JD198476|2020-03-30 15:30:00|     006XX E 38TH PL|1320|     CRIMINAL DAMAGE|          TO VEHICLE|PARKING LOT / GAR...| false|   false| 212|     2.0| 4.0|          36.0|      14|   1181005.0|   1879593.0|2020|04/06/2020 04:24:...|41.824852| -87.61145|(41.824852184, -8...|\n",
            "|12021677|   JD199559|2020-04-01 11:15:00|020XX S CANALPORT...|4387|       OTHER OFFENSE|VIOLATE ORDER OF ...|           RESIDENCE| false|    true|1235|    12.0|11.0|          31.0|      26|   1171099.0|   1890229.0|2020|04/08/2020 03:43:...| 41.85426| -87.64748|(41.854260957, -8...|\n",
            "|12005225|   JD181240|2020-03-10 08:45:00| 034XX W DRUMMOND PL|0560|             ASSAULT|              SIMPLE|            SIDEWALK| false|   false|1412|    14.0|35.0|          22.0|     08A|   1153096.0|   1917431.0|2020|03/17/2020 03:41:...|41.929283| -87.71284|(41.92928153, -87...|\n",
            "|12092738|   JD280842|2020-05-31 11:00:00|     024XX W 68TH ST|1310|     CRIMINAL DAMAGE|         TO PROPERTY|RESIDENCE - PORCH...| false|   false| 832|     8.0|17.0|          66.0|      14|   1161067.0|   1859492.0|2020|07/03/2020 03:39:...| 41.77013| -87.68515|(41.770128858, -8...|\n",
            "|12097725|   JD287542|2020-07-06 00:05:00| 022XX N LAPORTE AVE|0486|             BATTERY|DOMESTIC BATTERY ...|           APARTMENT| false|    true|2522|    25.0|36.0|          19.0|     08B|   1143026.0|   1914445.0|2020|07/13/2020 03:42:...| 41.92128|-87.749916|(41.921281655, -8...|\n",
            "|12165831|   JD366559|2020-09-14 04:53:00|  061XX N OAKLEY AVE|0560|             ASSAULT|              SIMPLE|           APARTMENT| false|   false|2413|    24.0|40.0|           2.0|     08A|   1159872.0|   1940807.0|2020|09/21/2020 03:44:...| 41.99329| -87.68729|(41.993289236, -8...|\n",
            "|12143082|   JD340776|2020-08-21 22:15:00|     031XX W POLK ST|0486|             BATTERY|DOMESTIC BATTERY ...|           APARTMENT| false|    true|1134|    11.0|24.0|          27.0|     08B|   1155571.0|   1896200.0|2020|08/28/2020 03:42:...| 41.87097|-87.704315|(41.870972237, -8...|\n",
            "|12178733|   JD382513|2020-09-27 17:00:00|024XX W DIVERSEY AVE|0460|             BATTERY|              SIMPLE|              STREET| false|   false|1411|    14.0|32.0|          22.0|     08B|   1159794.0|   1918533.0|2020|10/04/2020 03:43:...| 41.93217|-87.688194|(41.932169842, -8...|\n",
            "|12025295|   JD203697|2020-04-05 13:00:00|   064XX S HONORE ST|0820|               THEFT|      $500 AND UNDER|              STREET| false|   false| 726|     7.0|15.0|          67.0|      06|   1165118.0|   1862029.0|2020|04/12/2020 03:41:...|41.777004|-87.670235|(41.777005986, -8...|\n",
            "|12019228|   JD196922|2020-03-28 05:08:00| 041XX N PONTIAC AVE|0810|               THEFT|           OVER $500|              STREET| false|   false|1614|    16.0|38.0|          17.0|      06|   1119671.0|   1926367.0|2020|04/04/2020 03:41:...|41.954403| -87.83547|(41.954401174, -8...|\n",
            "|12075929|   JD261664|2020-06-12 08:51:00| 120XX S STEWART AVE|0810|               THEFT|           OVER $500|           RESIDENCE| false|    true| 523|     5.0|34.0|          53.0|      06|   1175796.0|   1825007.0|2020|06/19/2020 03:41:...| 41.67518|-87.632195|(41.675180065, -8...|\n",
            "|12169088|   JD371131|2020-09-18 00:01:00|075XX S PHILLIPS AVE|0910| MOTOR VEHICLE THEFT|          AUTOMOBILE|PARKING LOT / GAR...| false|   false| 421|     4.0| 7.0|          43.0|      07|   1193843.0|   1855380.0|2020|09/25/2020 03:42:...|41.758106| -87.56515|(41.75810458, -87...|\n",
            "|12196042|   JD402456|2020-10-17 14:30:00| 051XX S PRAIRIE AVE|0486|             BATTERY|DOMESTIC BATTERY ...|  RESIDENCE - GARAGE| false|    true| 231|     2.0| 3.0|          40.0|     08B|   1178914.0|   1870938.0|2020|12/17/2020 03:40:...| 41.80115|-87.619385|(41.801150088, -8...|\n",
            "|12107176|   JD298687|2020-07-15 18:46:00|     004XX W 96TH ST|0560|             ASSAULT|              SIMPLE|              STREET| false|    true|2223|    22.0|21.0|          73.0|     08A|   1175001.0|   1841244.0|2020|09/07/2021 03:41:...|41.719753| -87.63462|(41.719754527, -8...|\n",
            "|12151535|   JD350793|2020-08-30 17:27:00| 078XX S ASHLAND AVE|1477|   WEAPONS VIOLATION|RECKLESS FIREARM ...|               ALLEY| false|   false| 611|     6.0|17.0|          71.0|      15|   1167038.0|   1852633.0|2020|09/06/2020 03:42:...|41.751183| -87.66346|(41.751181266, -8...|\n",
            "|12136004|   JD332880|2020-08-14 23:20:00|055XX S HERMITAGE...|143A|   WEAPONS VIOLATION|UNLAWFUL POSSESSI...|              STREET|  true|   false| 715|     7.0|15.0|          67.0|      15|   1165626.0|   1867814.0|2020|08/21/2020 04:34:...| 41.79287|-87.668205|(41.792869991, -8...|\n",
            "|12121924|   JD316184|2020-07-07 12:00:00|     025XX E 92ND ST|1156|  DECEPTIVE PRACTICE|ATTEMPT - FINANCI...|           RESIDENCE| false|   false| 423|     4.0| 7.0|          48.0|      11|   1194520.0|   1844452.0|2020|08/05/2020 03:40:...|  41.7281| -87.56302|(41.728100626, -8...|\n",
            "|12119813|   JD312768|2020-07-23 23:00:00|082XX S MARYLAND AVE|0820|               THEFT|      $500 AND UNDER|VEHICLE NON-COMME...| false|   false| 631|     6.0| 8.0|          44.0|      06|   1183340.0|   1850486.0|2020|07/31/2020 03:39:...|41.744926| -87.60379|(41.744925849, -8...|\n",
            "|12069994|   JD254699|2020-06-05 14:15:00|     011XX S TROY ST|0486|             BATTERY|DOMESTIC BATTERY ...|           APARTMENT|  true|    true|1134|    11.0|24.0|          29.0|     08B|   1155533.0|   1894990.0|2020|06/12/2020 03:41:...|41.867653| -87.70448|(41.867652634, -8...|\n",
            "|12195675|   JD402139|2020-10-16 18:00:00|016XX N WASHTENAW...|0890|               THEFT|       FROM BUILDING|       HOTEL / MOTEL| false|   false|1421|    14.0| 1.0|          24.0|      06|   1158118.0|   1910819.0|2020|12/17/2020 03:40:...|41.911037|-87.694565|(41.911036489, -8...|\n",
            "|12064652|   JD249002|2020-05-31 19:30:00|  117XX S HALSTED ST|1310|     CRIMINAL DAMAGE|         TO PROPERTY|PARKING LOT / GAR...| false|   false| 524|     5.0|34.0|          53.0|      14|   1173094.0|   1827146.0|2020|06/07/2020 03:41:...| 41.68111| -87.64202|(41.681109736, -8...|\n",
            "|12102405|   JD292702|2020-07-09 14:58:00|     002XX E 47TH ST|0930| MOTOR VEHICLE THEFT|THEFT / RECOVERY ...|              STREET| false|   false| 224|     2.0| 3.0|          38.0|      07|   1178515.0|   1873911.0|2020|07/16/2020 03:42:...| 41.80932| -87.62076|(41.80931735, -87...|\n",
            "|12072625|   JD257902|2020-06-08 16:45:00|011XX N LAVERGNE AVE|0460|             BATTERY|              SIMPLE|NURSING / RETIREM...| false|   false|1531|    15.0|37.0|          25.0|     08B|   1142820.0|   1907203.0|2020|06/15/2020 03:42:...|41.901413|-87.750854|(41.901412663, -8...|\n",
            "+--------+-----------+-------------------+--------------------+----+--------------------+--------------------+--------------------+------+--------+----+--------+----+--------------+--------+------------+------------+----+--------------------+---------+----------+--------------------+\n",
            "only showing top 100 rows\n",
            "\n"
          ]
        }
      ]
    },
    {
      "cell_type": "markdown",
      "source": [
        "# **Remove all the records with the following crime types:t**\n"
      ],
      "metadata": {
        "id": "YW3zGnYUBRzQ"
      }
    },
    {
      "cell_type": "code",
      "source": [
        "crime_data_cleaned = crime_data.filter(~col(\"Primary Type\").isin(\n",
        "    \"NON-CRIMINAL (SUBJECT SPECIFIED)\",\n",
        "    \"OTHER OFFENSE\",\n",
        "    \"STALKING\",\n",
        "    \"NON - CRIMINAL\",\n",
        "    \"ARSON\"\n",
        "))"
      ],
      "metadata": {
        "id": "Ah492SPeBTo6"
      },
      "execution_count": 16,
      "outputs": []
    },
    {
      "cell_type": "code",
      "source": [
        "crime_data_cleaned.show(10)"
      ],
      "metadata": {
        "colab": {
          "base_uri": "https://localhost:8080/"
        },
        "id": "m6J2HhaHePI7",
        "outputId": "9911acf6-cda2-40bb-aaed-ea0418f46a39"
      },
      "execution_count": 17,
      "outputs": [
        {
          "output_type": "stream",
          "name": "stdout",
          "text": [
            "+--------+-----------+-------------------+--------------------+----+--------------------+--------------------+--------------------+------+--------+----+--------+----+--------------+--------+------------+------------+----+--------------------+---------+----------+--------------------+\n",
            "|      ID|Case Number|               Date|               Block|IUCR|        Primary Type|         Description|Location Description|Arrest|Domestic|Beat|District|Ward|Community Area|FBI Code|X Coordinate|Y Coordinate|Year|          Updated On| Latitude| Longitude|            Location|\n",
            "+--------+-----------+-------------------+--------------------+----+--------------------+--------------------+--------------------+------+--------+----+--------+----+--------------+--------+------------+------------+----+--------------------+---------+----------+--------------------+\n",
            "|12045583|   JD226426|2020-05-07 10:24:00| 035XX S INDIANA AVE|0820|               THEFT|      $500 AND UNDER|           APARTMENT| false|   false| 212|     2.0| 3.0|          35.0|      06|   1178180.0|   1881621.0|2020|05/14/2020 08:47:...|41.830482| -87.62175|(41.830481843, -8...|\n",
            "|12031001|   JD209965|2020-04-16 05:00:00|     005XX W 32ND ST|0460|             BATTERY|              SIMPLE|           APARTMENT|  true|   false| 915|     9.0|11.0|          60.0|     08B|   1173292.0|   1883705.0|2020|04/23/2020 03:45:...| 41.83631|-87.639626|(41.836310224, -8...|\n",
            "|12093529|   JD282112|2020-07-01 10:16:00|   081XX S COLES AVE|051A|             ASSAULT|AGGRAVATED - HANDGUN|              STREET|  true|   false| 422|     4.0| 7.0|          46.0|     04A|   1198234.0|   1851595.0|2020|07/08/2020 03:41:...| 41.74761| -87.54918|(41.747609555, -8...|\n",
            "|12178140|   JD381597|2020-09-27 23:29:00| 065XX S WOLCOTT AVE|0460|             BATTERY|              SIMPLE|RESIDENCE - PORCH...| false|   false| 726|     7.0|15.0|          67.0|     08B|   1164812.0|   1861251.0|2020|10/04/2020 03:43:...|41.774876| -87.67137|(41.77487752, -87...|\n",
            "| 4144897|   HL474854|2005-07-10 15:00:00| 062XX S ABERDEEN ST|0430|             BATTERY|AGGRAVATED: OTHER...|              STREET| false|   false| 712|     7.0|16.0|          68.0|     04B|   1170050.0|   1863524.0|2005|02/28/2018 03:56:...|41.781002| -87.65211|(41.781002663, -8...|\n",
            "|12126129|   JD321064|2020-08-04 20:28:00| 081XX S LOOMIS BLVD|143A|   WEAPONS VIOLATION|UNLAWFUL POSSESSI...|              STREET|  true|   false| 613|     6.0|21.0|          71.0|      15|   1168412.0|   1850836.0|2020|08/11/2020 03:42:...| 41.74622| -87.65848|(41.746220584, -8...|\n",
            "|12067286|   JD251718|2020-06-02 22:00:00| 042XX S EMERALD AVE|0820|               THEFT|      $500 AND UNDER|              STREET|  true|   false| 925|     9.0|11.0|          61.0|      06|   1172009.0|   1876708.0|2020|06/09/2020 03:43:...| 41.81714| -87.64454|(41.817138145, -8...|\n",
            "| 4229528|   HL545852|2005-08-12 23:00:00|063XX S COTTAGE G...|3730|INTERFERENCE WITH...| OBSTRUCTING JUSTICE|            SIDEWALK|  true|   false| 312|     3.0|20.0|          42.0|      24|   1182654.0|   1863077.0|2005|02/28/2018 03:56:...| 41.77949| -87.60591|(41.779492755, -8...|\n",
            "|12163191|   JD364357|2020-09-11 22:44:00|008XX N TRUMBULL AVE|0486|             BATTERY|DOMESTIC BATTERY ...|           RESIDENCE|  true|    true|1121|    11.0|27.0|          23.0|     08B|   1153223.0|   1905475.0|2020|09/07/2021 03:41:...| 41.89647|-87.712685|(41.896470682, -8...|\n",
            "|12142075|   JD339709|2020-08-21 00:00:00|015XX N MILWAUKEE...|0420|             BATTERY|AGGRAVATED - KNIF...|            SIDEWALK| false|   false|1424|    14.0| 1.0|          24.0|     04B|   1163078.0|   1910357.0|2020|08/28/2020 03:42:...|41.909664| -87.67635|(41.90966592, -87...|\n",
            "+--------+-----------+-------------------+--------------------+----+--------------------+--------------------+--------------------+------+--------+----+--------+----+--------------+--------+------------+------------+----+--------------------+---------+----------+--------------------+\n",
            "only showing top 10 rows\n",
            "\n"
          ]
        }
      ]
    },
    {
      "cell_type": "markdown",
      "source": [
        "**Merge the similar crime types.\n",
        "For example, change 'Primary Type' of cases that have 'Primary Type' as ‘SEX OFFENSE’ or ‘PROSTITUTION’ such that they should have the same 'Primary Type'.**"
      ],
      "metadata": {
        "id": "p2iuU4MgBhUq"
      }
    },
    {
      "cell_type": "code",
      "source": [
        "print(crime_data_cleaned.columns)"
      ],
      "metadata": {
        "colab": {
          "base_uri": "https://localhost:8080/"
        },
        "id": "p6ASiAtefXVd",
        "outputId": "1ff5136d-4e09-49d6-f0f4-131107b6f4cc"
      },
      "execution_count": 18,
      "outputs": [
        {
          "output_type": "stream",
          "name": "stdout",
          "text": [
            "['ID', 'Case Number', 'Date', 'Block', 'IUCR', 'Primary Type', 'Description', 'Location Description', 'Arrest', 'Domestic', 'Beat', 'District', 'Ward', 'Community Area', 'FBI Code', 'X Coordinate', 'Y Coordinate', 'Year', 'Updated On', 'Latitude', 'Longitude', 'Location']\n"
          ]
        }
      ]
    },
    {
      "cell_type": "code",
      "source": [
        "# Merge similar crime types\n",
        "merged_type = when(\n",
        "    (col(\"Primary Type\") == \"SEX OFFENSE\") | (col(\"Primary Type\") == \"PROSTITUTION\"),\n",
        "    \"SEX OFFENSE/PROSTITUTION\"\n",
        ").otherwise(col(\"Primary Type\"))"
      ],
      "metadata": {
        "id": "k3qqjuivBaZf"
      },
      "execution_count": 19,
      "outputs": []
    },
    {
      "cell_type": "code",
      "source": [
        "# Apply the conditions and update the 'Primary Type' column\n",
        "crime_data_cleaned = crime_data.withColumn(\"Primary Type\", merged_type)\n",
        "\n",
        "# Display the updated DataFrame\n",
        "crime_data_cleaned.show()"
      ],
      "metadata": {
        "colab": {
          "base_uri": "https://localhost:8080/"
        },
        "id": "v8uqLPOee4uI",
        "outputId": "8e473c08-7741-4ebe-e237-fd9e1781af08"
      },
      "execution_count": 20,
      "outputs": [
        {
          "output_type": "stream",
          "name": "stdout",
          "text": [
            "+--------+-----------+-------------------+--------------------+----+--------------------+--------------------+--------------------+------+--------+----+--------+----+--------------+--------+------------+------------+----+--------------------+---------+----------+--------------------+\n",
            "|      ID|Case Number|               Date|               Block|IUCR|        Primary Type|         Description|Location Description|Arrest|Domestic|Beat|District|Ward|Community Area|FBI Code|X Coordinate|Y Coordinate|Year|          Updated On| Latitude| Longitude|            Location|\n",
            "+--------+-----------+-------------------+--------------------+----+--------------------+--------------------+--------------------+------+--------+----+--------+----+--------------+--------+------------+------------+----+--------------------+---------+----------+--------------------+\n",
            "|12045583|   JD226426|2020-05-07 10:24:00| 035XX S INDIANA AVE|0820|               THEFT|      $500 AND UNDER|           APARTMENT| false|   false| 212|     2.0| 3.0|          35.0|      06|   1178180.0|   1881621.0|2020|05/14/2020 08:47:...|41.830482| -87.62175|(41.830481843, -8...|\n",
            "|12031001|   JD209965|2020-04-16 05:00:00|     005XX W 32ND ST|0460|             BATTERY|              SIMPLE|           APARTMENT|  true|   false| 915|     9.0|11.0|          60.0|     08B|   1173292.0|   1883705.0|2020|04/23/2020 03:45:...| 41.83631|-87.639626|(41.836310224, -8...|\n",
            "|12093529|   JD282112|2020-07-01 10:16:00|   081XX S COLES AVE|051A|             ASSAULT|AGGRAVATED - HANDGUN|              STREET|  true|   false| 422|     4.0| 7.0|          46.0|     04A|   1198234.0|   1851595.0|2020|07/08/2020 03:41:...| 41.74761| -87.54918|(41.747609555, -8...|\n",
            "|12178140|   JD381597|2020-09-27 23:29:00| 065XX S WOLCOTT AVE|0460|             BATTERY|              SIMPLE|RESIDENCE - PORCH...| false|   false| 726|     7.0|15.0|          67.0|     08B|   1164812.0|   1861251.0|2020|10/04/2020 03:43:...|41.774876| -87.67137|(41.77487752, -87...|\n",
            "| 4144897|   HL474854|2005-07-10 15:00:00| 062XX S ABERDEEN ST|0430|             BATTERY|AGGRAVATED: OTHER...|              STREET| false|   false| 712|     7.0|16.0|          68.0|     04B|   1170050.0|   1863524.0|2005|02/28/2018 03:56:...|41.781002| -87.65211|(41.781002663, -8...|\n",
            "|12126129|   JD321064|2020-08-04 20:28:00| 081XX S LOOMIS BLVD|143A|   WEAPONS VIOLATION|UNLAWFUL POSSESSI...|              STREET|  true|   false| 613|     6.0|21.0|          71.0|      15|   1168412.0|   1850836.0|2020|08/11/2020 03:42:...| 41.74622| -87.65848|(41.746220584, -8...|\n",
            "|12010314|   JD186932|2020-03-15 21:00:00|    051XX W HURON ST|2820|       OTHER OFFENSE|    TELEPHONE THREAT|           APARTMENT| false|   false|1531|    15.0|37.0|          25.0|     08A|   1141763.0|   1904131.0|2020|03/22/2020 03:41:...|   41.893|-87.754814|(41.893002363, -8...|\n",
            "|12067286|   JD251718|2020-06-02 22:00:00| 042XX S EMERALD AVE|0820|               THEFT|      $500 AND UNDER|              STREET|  true|   false| 925|     9.0|11.0|          61.0|      06|   1172009.0|   1876708.0|2020|06/09/2020 03:43:...| 41.81714| -87.64454|(41.817138145, -8...|\n",
            "| 4229528|   HL545852|2005-08-12 23:00:00|063XX S COTTAGE G...|3730|INTERFERENCE WITH...| OBSTRUCTING JUSTICE|            SIDEWALK|  true|   false| 312|     3.0|20.0|          42.0|      24|   1182654.0|   1863077.0|2005|02/28/2018 03:56:...| 41.77949| -87.60591|(41.779492755, -8...|\n",
            "|12163191|   JD364357|2020-09-11 22:44:00|008XX N TRUMBULL AVE|0486|             BATTERY|DOMESTIC BATTERY ...|           RESIDENCE|  true|    true|1121|    11.0|27.0|          23.0|     08B|   1153223.0|   1905475.0|2020|09/07/2021 03:41:...| 41.89647|-87.712685|(41.896470682, -8...|\n",
            "|12142075|   JD339709|2020-08-21 00:00:00|015XX N MILWAUKEE...|0420|             BATTERY|AGGRAVATED - KNIF...|            SIDEWALK| false|   false|1424|    14.0| 1.0|          24.0|     04B|   1163078.0|   1910357.0|2020|08/28/2020 03:42:...|41.909664| -87.67635|(41.90966592, -87...|\n",
            "|12005594|   JD181480|2020-03-11 00:00:00|     040XX W 26TH ST|0860|               THEFT|        RETAIL THEFT|  SMALL RETAIL STORE| false|   false|1031|    10.0|22.0|          30.0|      06|   1150021.0|   1886423.0|2020|03/18/2020 03:41:...|41.844254|-87.724945|(41.844252757, -8...|\n",
            "|12070567|   JD249245|2020-06-01 01:20:00|024XX N MILWAUKEE...|0620|            BURGLARY|      UNLAWFUL ENTRY|  SMALL RETAIL STORE| false|   false|1414|    14.0| 1.0|          22.0|      05|   1156086.0|   1916141.0|2020|07/06/2020 03:40:...|41.925682| -87.70188|(41.925681769, -8...|\n",
            "|12057551|   JD240361|2020-05-23 12:20:00| 068XX S LOOMIS BLVD|0486|             BATTERY|DOMESTIC BATTERY ...|              STREET| false|    true| 724|     7.0|17.0|          67.0|     08B|   1168179.0|   1859299.0|2020|09/07/2021 03:41:...|41.769447| -87.65909|(41.769449202, -8...|\n",
            "|12057185|   JD239952|2020-05-22 22:29:00|   0000X N LOREL AVE|2024|           NARCOTICS|POSSESS - HEROIN ...|              STREET|  true|   false|1522|    15.0|28.0|          25.0|      18|   1140721.0|   1899686.0|2020|05/29/2020 03:41:...|41.880825| -87.75875|(41.880823946, -8...|\n",
            "|12107263|   JD298884|2020-07-15 22:15:00| 070XX S CHAPPEL AVE|0560|             ASSAULT|              SIMPLE|           APARTMENT| false|    true| 331|     3.0| 5.0|          43.0|     08A|   1191099.0|   1858560.0|2020|07/22/2020 03:42:...|  41.7669|-87.575096|(41.766897557, -8...|\n",
            "|12178347|   JD382022|2020-09-28 10:23:00|038XX W JACKSON BLVD|2820|       OTHER OFFENSE|    TELEPHONE THREAT|     OTHER (SPECIFY)| false|   false|1133|    11.0|28.0|          26.0|     08A|   1150770.0|   1898411.0|2020|10/05/2020 03:40:...|41.877136| -87.72188|(41.877134658, -8...|\n",
            "|12164381|   JD361415|2020-09-09 09:23:00|  081XX S VERNON AVE|0560|             ASSAULT|              SIMPLE|           RESIDENCE| false|   false| 631|     6.0| 6.0|          44.0|     08A|   1180660.0|   1851072.0|2020|09/16/2020 03:41:...|41.746597|-87.613594|(41.746595831, -8...|\n",
            "|12072697|   JD257284|2020-06-06 07:45:00|065XX S UNIVERSIT...|2820|       OTHER OFFENSE|    TELEPHONE THREAT|     OTHER (SPECIFY)| false|   false| 321|     3.0| 5.0|          42.0|     08A|   1184679.0|   1861785.0|2020|06/13/2020 03:42:...|  41.7759|-87.598526|(41.775900146, -8...|\n",
            "|12126191|   JD321188|2020-08-05 01:00:00|025XX S MICHIGAN AVE|0454|             BATTERY|AGGRAVATED P.O. -...|HOSPITAL BUILDING...|  true|   false| 133|     1.0| 4.0|          33.0|     08B|   1177647.0|   1887564.0|2020|08/12/2020 03:41:...|  41.8468| -87.62353|(41.846801978, -8...|\n",
            "+--------+-----------+-------------------+--------------------+----+--------------------+--------------------+--------------------+------+--------+----+--------+----+--------------+--------+------------+------------+----+--------------------+---------+----------+--------------------+\n",
            "only showing top 20 rows\n",
            "\n"
          ]
        }
      ]
    },
    {
      "cell_type": "markdown",
      "source": [
        "**Analyze the data and present results:\n",
        "a.Show year-wise trend of the crime for last ten years**."
      ],
      "metadata": {
        "id": "ahjo5FZZB8OD"
      }
    },
    {
      "cell_type": "code",
      "source": [
        "import matplotlib.pyplot as plt\n",
        "# Filter the data for the last ten years\n",
        "current_year = 2024\n",
        "crime_last_ten_years = crime_data_cleaned.filter(crime_data[\"Year\"] >= current_year - 10)\n",
        "# Group by year and count the number of crimes for each year\n",
        "crime_by_year = crime_last_ten_years.groupBy(\"Year\").count().orderBy(\"Year\")\n",
        "# Convert DataFrame to Pandas for plotting\n",
        "crime_by_year_pd = crime_by_year.toPandas()\n",
        "crime_by_year_pd"
      ],
      "metadata": {
        "colab": {
          "base_uri": "https://localhost:8080/",
          "height": 394
        },
        "id": "j-RRE7P3B4jS",
        "outputId": "64d34446-7c1f-4646-f54a-48392647895a"
      },
      "execution_count": 21,
      "outputs": [
        {
          "output_type": "execute_result",
          "data": {
            "text/plain": [
              "    Year   count\n",
              "0   2014  273638\n",
              "1   2015  257791\n",
              "2   2016  266489\n",
              "3   2017  264159\n",
              "4   2018  262909\n",
              "5   2019  258172\n",
              "6   2020  206925\n",
              "7   2021  202032\n",
              "8   2022  234265\n",
              "9   2023  259961\n",
              "10  2024   49944"
            ],
            "text/html": [
              "\n",
              "  <div id=\"df-e7156489-1290-4ff5-9568-4cc4a6782887\" class=\"colab-df-container\">\n",
              "    <div>\n",
              "<style scoped>\n",
              "    .dataframe tbody tr th:only-of-type {\n",
              "        vertical-align: middle;\n",
              "    }\n",
              "\n",
              "    .dataframe tbody tr th {\n",
              "        vertical-align: top;\n",
              "    }\n",
              "\n",
              "    .dataframe thead th {\n",
              "        text-align: right;\n",
              "    }\n",
              "</style>\n",
              "<table border=\"1\" class=\"dataframe\">\n",
              "  <thead>\n",
              "    <tr style=\"text-align: right;\">\n",
              "      <th></th>\n",
              "      <th>Year</th>\n",
              "      <th>count</th>\n",
              "    </tr>\n",
              "  </thead>\n",
              "  <tbody>\n",
              "    <tr>\n",
              "      <th>0</th>\n",
              "      <td>2014</td>\n",
              "      <td>273638</td>\n",
              "    </tr>\n",
              "    <tr>\n",
              "      <th>1</th>\n",
              "      <td>2015</td>\n",
              "      <td>257791</td>\n",
              "    </tr>\n",
              "    <tr>\n",
              "      <th>2</th>\n",
              "      <td>2016</td>\n",
              "      <td>266489</td>\n",
              "    </tr>\n",
              "    <tr>\n",
              "      <th>3</th>\n",
              "      <td>2017</td>\n",
              "      <td>264159</td>\n",
              "    </tr>\n",
              "    <tr>\n",
              "      <th>4</th>\n",
              "      <td>2018</td>\n",
              "      <td>262909</td>\n",
              "    </tr>\n",
              "    <tr>\n",
              "      <th>5</th>\n",
              "      <td>2019</td>\n",
              "      <td>258172</td>\n",
              "    </tr>\n",
              "    <tr>\n",
              "      <th>6</th>\n",
              "      <td>2020</td>\n",
              "      <td>206925</td>\n",
              "    </tr>\n",
              "    <tr>\n",
              "      <th>7</th>\n",
              "      <td>2021</td>\n",
              "      <td>202032</td>\n",
              "    </tr>\n",
              "    <tr>\n",
              "      <th>8</th>\n",
              "      <td>2022</td>\n",
              "      <td>234265</td>\n",
              "    </tr>\n",
              "    <tr>\n",
              "      <th>9</th>\n",
              "      <td>2023</td>\n",
              "      <td>259961</td>\n",
              "    </tr>\n",
              "    <tr>\n",
              "      <th>10</th>\n",
              "      <td>2024</td>\n",
              "      <td>49944</td>\n",
              "    </tr>\n",
              "  </tbody>\n",
              "</table>\n",
              "</div>\n",
              "    <div class=\"colab-df-buttons\">\n",
              "\n",
              "  <div class=\"colab-df-container\">\n",
              "    <button class=\"colab-df-convert\" onclick=\"convertToInteractive('df-e7156489-1290-4ff5-9568-4cc4a6782887')\"\n",
              "            title=\"Convert this dataframe to an interactive table.\"\n",
              "            style=\"display:none;\">\n",
              "\n",
              "  <svg xmlns=\"http://www.w3.org/2000/svg\" height=\"24px\" viewBox=\"0 -960 960 960\">\n",
              "    <path d=\"M120-120v-720h720v720H120Zm60-500h600v-160H180v160Zm220 220h160v-160H400v160Zm0 220h160v-160H400v160ZM180-400h160v-160H180v160Zm440 0h160v-160H620v160ZM180-180h160v-160H180v160Zm440 0h160v-160H620v160Z\"/>\n",
              "  </svg>\n",
              "    </button>\n",
              "\n",
              "  <style>\n",
              "    .colab-df-container {\n",
              "      display:flex;\n",
              "      gap: 12px;\n",
              "    }\n",
              "\n",
              "    .colab-df-convert {\n",
              "      background-color: #E8F0FE;\n",
              "      border: none;\n",
              "      border-radius: 50%;\n",
              "      cursor: pointer;\n",
              "      display: none;\n",
              "      fill: #1967D2;\n",
              "      height: 32px;\n",
              "      padding: 0 0 0 0;\n",
              "      width: 32px;\n",
              "    }\n",
              "\n",
              "    .colab-df-convert:hover {\n",
              "      background-color: #E2EBFA;\n",
              "      box-shadow: 0px 1px 2px rgba(60, 64, 67, 0.3), 0px 1px 3px 1px rgba(60, 64, 67, 0.15);\n",
              "      fill: #174EA6;\n",
              "    }\n",
              "\n",
              "    .colab-df-buttons div {\n",
              "      margin-bottom: 4px;\n",
              "    }\n",
              "\n",
              "    [theme=dark] .colab-df-convert {\n",
              "      background-color: #3B4455;\n",
              "      fill: #D2E3FC;\n",
              "    }\n",
              "\n",
              "    [theme=dark] .colab-df-convert:hover {\n",
              "      background-color: #434B5C;\n",
              "      box-shadow: 0px 1px 3px 1px rgba(0, 0, 0, 0.15);\n",
              "      filter: drop-shadow(0px 1px 2px rgba(0, 0, 0, 0.3));\n",
              "      fill: #FFFFFF;\n",
              "    }\n",
              "  </style>\n",
              "\n",
              "    <script>\n",
              "      const buttonEl =\n",
              "        document.querySelector('#df-e7156489-1290-4ff5-9568-4cc4a6782887 button.colab-df-convert');\n",
              "      buttonEl.style.display =\n",
              "        google.colab.kernel.accessAllowed ? 'block' : 'none';\n",
              "\n",
              "      async function convertToInteractive(key) {\n",
              "        const element = document.querySelector('#df-e7156489-1290-4ff5-9568-4cc4a6782887');\n",
              "        const dataTable =\n",
              "          await google.colab.kernel.invokeFunction('convertToInteractive',\n",
              "                                                    [key], {});\n",
              "        if (!dataTable) return;\n",
              "\n",
              "        const docLinkHtml = 'Like what you see? Visit the ' +\n",
              "          '<a target=\"_blank\" href=https://colab.research.google.com/notebooks/data_table.ipynb>data table notebook</a>'\n",
              "          + ' to learn more about interactive tables.';\n",
              "        element.innerHTML = '';\n",
              "        dataTable['output_type'] = 'display_data';\n",
              "        await google.colab.output.renderOutput(dataTable, element);\n",
              "        const docLink = document.createElement('div');\n",
              "        docLink.innerHTML = docLinkHtml;\n",
              "        element.appendChild(docLink);\n",
              "      }\n",
              "    </script>\n",
              "  </div>\n",
              "\n",
              "\n",
              "<div id=\"df-aa7014d8-b786-4c3f-af10-bbd0547ceb87\">\n",
              "  <button class=\"colab-df-quickchart\" onclick=\"quickchart('df-aa7014d8-b786-4c3f-af10-bbd0547ceb87')\"\n",
              "            title=\"Suggest charts\"\n",
              "            style=\"display:none;\">\n",
              "\n",
              "<svg xmlns=\"http://www.w3.org/2000/svg\" height=\"24px\"viewBox=\"0 0 24 24\"\n",
              "     width=\"24px\">\n",
              "    <g>\n",
              "        <path d=\"M19 3H5c-1.1 0-2 .9-2 2v14c0 1.1.9 2 2 2h14c1.1 0 2-.9 2-2V5c0-1.1-.9-2-2-2zM9 17H7v-7h2v7zm4 0h-2V7h2v10zm4 0h-2v-4h2v4z\"/>\n",
              "    </g>\n",
              "</svg>\n",
              "  </button>\n",
              "\n",
              "<style>\n",
              "  .colab-df-quickchart {\n",
              "      --bg-color: #E8F0FE;\n",
              "      --fill-color: #1967D2;\n",
              "      --hover-bg-color: #E2EBFA;\n",
              "      --hover-fill-color: #174EA6;\n",
              "      --disabled-fill-color: #AAA;\n",
              "      --disabled-bg-color: #DDD;\n",
              "  }\n",
              "\n",
              "  [theme=dark] .colab-df-quickchart {\n",
              "      --bg-color: #3B4455;\n",
              "      --fill-color: #D2E3FC;\n",
              "      --hover-bg-color: #434B5C;\n",
              "      --hover-fill-color: #FFFFFF;\n",
              "      --disabled-bg-color: #3B4455;\n",
              "      --disabled-fill-color: #666;\n",
              "  }\n",
              "\n",
              "  .colab-df-quickchart {\n",
              "    background-color: var(--bg-color);\n",
              "    border: none;\n",
              "    border-radius: 50%;\n",
              "    cursor: pointer;\n",
              "    display: none;\n",
              "    fill: var(--fill-color);\n",
              "    height: 32px;\n",
              "    padding: 0;\n",
              "    width: 32px;\n",
              "  }\n",
              "\n",
              "  .colab-df-quickchart:hover {\n",
              "    background-color: var(--hover-bg-color);\n",
              "    box-shadow: 0 1px 2px rgba(60, 64, 67, 0.3), 0 1px 3px 1px rgba(60, 64, 67, 0.15);\n",
              "    fill: var(--button-hover-fill-color);\n",
              "  }\n",
              "\n",
              "  .colab-df-quickchart-complete:disabled,\n",
              "  .colab-df-quickchart-complete:disabled:hover {\n",
              "    background-color: var(--disabled-bg-color);\n",
              "    fill: var(--disabled-fill-color);\n",
              "    box-shadow: none;\n",
              "  }\n",
              "\n",
              "  .colab-df-spinner {\n",
              "    border: 2px solid var(--fill-color);\n",
              "    border-color: transparent;\n",
              "    border-bottom-color: var(--fill-color);\n",
              "    animation:\n",
              "      spin 1s steps(1) infinite;\n",
              "  }\n",
              "\n",
              "  @keyframes spin {\n",
              "    0% {\n",
              "      border-color: transparent;\n",
              "      border-bottom-color: var(--fill-color);\n",
              "      border-left-color: var(--fill-color);\n",
              "    }\n",
              "    20% {\n",
              "      border-color: transparent;\n",
              "      border-left-color: var(--fill-color);\n",
              "      border-top-color: var(--fill-color);\n",
              "    }\n",
              "    30% {\n",
              "      border-color: transparent;\n",
              "      border-left-color: var(--fill-color);\n",
              "      border-top-color: var(--fill-color);\n",
              "      border-right-color: var(--fill-color);\n",
              "    }\n",
              "    40% {\n",
              "      border-color: transparent;\n",
              "      border-right-color: var(--fill-color);\n",
              "      border-top-color: var(--fill-color);\n",
              "    }\n",
              "    60% {\n",
              "      border-color: transparent;\n",
              "      border-right-color: var(--fill-color);\n",
              "    }\n",
              "    80% {\n",
              "      border-color: transparent;\n",
              "      border-right-color: var(--fill-color);\n",
              "      border-bottom-color: var(--fill-color);\n",
              "    }\n",
              "    90% {\n",
              "      border-color: transparent;\n",
              "      border-bottom-color: var(--fill-color);\n",
              "    }\n",
              "  }\n",
              "</style>\n",
              "\n",
              "  <script>\n",
              "    async function quickchart(key) {\n",
              "      const quickchartButtonEl =\n",
              "        document.querySelector('#' + key + ' button');\n",
              "      quickchartButtonEl.disabled = true;  // To prevent multiple clicks.\n",
              "      quickchartButtonEl.classList.add('colab-df-spinner');\n",
              "      try {\n",
              "        const charts = await google.colab.kernel.invokeFunction(\n",
              "            'suggestCharts', [key], {});\n",
              "      } catch (error) {\n",
              "        console.error('Error during call to suggestCharts:', error);\n",
              "      }\n",
              "      quickchartButtonEl.classList.remove('colab-df-spinner');\n",
              "      quickchartButtonEl.classList.add('colab-df-quickchart-complete');\n",
              "    }\n",
              "    (() => {\n",
              "      let quickchartButtonEl =\n",
              "        document.querySelector('#df-aa7014d8-b786-4c3f-af10-bbd0547ceb87 button');\n",
              "      quickchartButtonEl.style.display =\n",
              "        google.colab.kernel.accessAllowed ? 'block' : 'none';\n",
              "    })();\n",
              "  </script>\n",
              "</div>\n",
              "    </div>\n",
              "  </div>\n"
            ],
            "application/vnd.google.colaboratory.intrinsic+json": {
              "type": "dataframe",
              "variable_name": "crime_by_year_pd",
              "summary": "{\n  \"name\": \"crime_by_year_pd\",\n  \"rows\": 11,\n  \"fields\": [\n    {\n      \"column\": \"Year\",\n      \"properties\": {\n        \"dtype\": \"int32\",\n        \"num_unique_values\": 11,\n        \"samples\": [\n          2019,\n          2014,\n          2023\n        ],\n        \"semantic_type\": \"\",\n        \"description\": \"\"\n      }\n    },\n    {\n      \"column\": \"count\",\n      \"properties\": {\n        \"dtype\": \"number\",\n        \"std\": 64574,\n        \"min\": 49944,\n        \"max\": 273638,\n        \"num_unique_values\": 11,\n        \"samples\": [\n          258172,\n          273638,\n          259961\n        ],\n        \"semantic_type\": \"\",\n        \"description\": \"\"\n      }\n    }\n  ]\n}"
            }
          },
          "metadata": {},
          "execution_count": 21
        }
      ]
    },
    {
      "cell_type": "code",
      "source": [
        "# Plot year-wise trend of crime using a line plot\n",
        "plt.figure(figsize=(10, 6))\n",
        "plt.plot(crime_by_year_pd[\"Year\"], crime_by_year_pd[\"count\"], marker='o', linestyle='-')\n",
        "plt.title(\"Year-wise Trend of Crime (Last Ten Years)\")\n",
        "plt.xlabel(\"Year\")\n",
        "plt.ylabel(\"Number of Crimes\")\n",
        "plt.grid(True)\n",
        "plt.show()"
      ],
      "metadata": {
        "colab": {
          "base_uri": "https://localhost:8080/",
          "height": 564
        },
        "id": "nvip48f-yzc5",
        "outputId": "831c5be9-d2a8-49b8-f00e-a2d3ec8982b9"
      },
      "execution_count": 26,
      "outputs": [
        {
          "output_type": "display_data",
          "data": {
            "text/plain": [
              "<Figure size 1000x600 with 1 Axes>"
            ],
            "image/png": "[encoded data removed]"
          },
          "metadata": {}
        }
      ]
    },
    {
      "cell_type": "markdown",
      "source": [
        " **b.Find out at which hour of the day crime is highest.**"
      ],
      "metadata": {
        "id": "Rw-X5gb3nOVh"
      }
    },
    {
      "cell_type": "code",
      "source": [
        "# Extract hour from the \"Date\" column\n",
        "crime_data_with_hour = crime_data.withColumn(\"Hour\", hour(\"Date\"))\n",
        "\n",
        "# Group by hour and count the number of crimes for each hour\n",
        "crime_by_hour = crime_data_with_hour.groupBy(\"Hour\").count().orderBy(\"count\", ascending=False)\n",
        "\n",
        "# Find the hour with the highest number of crimes\n",
        "max_crime_hour = crime_by_hour.first()[\"Hour\"]\n",
        "max_crime_count = crime_by_hour.first()[\"count\"]\n",
        "\n",
        "print(f\"The hour with the highest number of crimes is {max_crime_hour}:00 with {max_crime_count} crimes.\")"
      ],
      "metadata": {
        "colab": {
          "base_uri": "https://localhost:8080/"
        },
        "id": "Y0yBMWK4CLge",
        "outputId": "d03d3e2f-4cf4-44e2-e449-1a9e4df61df7"
      },
      "execution_count": 23,
      "outputs": [
        {
          "output_type": "stream",
          "name": "stdout",
          "text": [
            "The hour with the highest number of crimes is 12:00 with 418154 crimes.\n"
          ]
        }
      ]
    },
    {
      "cell_type": "markdown",
      "source": [
        "**c)Find top ten crimes and present them as a bar chart.**"
      ],
      "metadata": {
        "id": "MtPEbg3hnf8J"
      }
    },
    {
      "cell_type": "code",
      "source": [
        "from pyspark.sql.functions import count\n",
        "crime_counts = crime_data_cleaned.groupBy(\"Primary Type\").agg(count(\"ID\").alias(\"CrimeCount\"))\n",
        "crime_counts.show()"
      ],
      "metadata": {
        "colab": {
          "base_uri": "https://localhost:8080/"
        },
        "id": "6TIbj5-9-o3T",
        "outputId": "90952d36-9502-4507-8209-eabf176a05a1"
      },
      "execution_count": 24,
      "outputs": [
        {
          "output_type": "stream",
          "name": "stdout",
          "text": [
            "+--------------------+----------+\n",
            "|        Primary Type|CrimeCount|\n",
            "+--------------------+----------+\n",
            "|OFFENSE INVOLVING...|     50970|\n",
            "|CRIMINAL SEXUAL A...|      7448|\n",
            "|            STALKING|      4902|\n",
            "|PUBLIC PEACE VIOL...|     49505|\n",
            "|           OBSCENITY|       788|\n",
            "|               ARSON|     12337|\n",
            "|            GAMBLING|     13420|\n",
            "|   CRIMINAL TRESPASS|    200253|\n",
            "|             ASSAULT|    486704|\n",
            "|LIQUOR LAW VIOLATION|     12960|\n",
            "| MOTOR VEHICLE THEFT|    364685|\n",
            "|               THEFT|   1552795|\n",
            "|             BATTERY|   1340752|\n",
            "|SEX OFFENSE/PROST...|     89111|\n",
            "|             ROBBERY|    278173|\n",
            "|            HOMICIDE|     12742|\n",
            "|           RITUALISM|        15|\n",
            "|    PUBLIC INDECENCY|       188|\n",
            "| CRIM SEXUAL ASSAULT|     24024|\n",
            "|   HUMAN TRAFFICKING|        95|\n",
            "+--------------------+----------+\n",
            "only showing top 20 rows\n",
            "\n"
          ]
        }
      ]
    },
    {
      "cell_type": "code",
      "source": [
        "# Order by count in descending order and limit to top ten crimes\n",
        "top_ten_crimes = crime_counts.orderBy(col(\"CrimeCount\").desc()).limit(10)\n",
        "\n",
        "# Convert DataFrame to Pandas for plotting\n",
        "top_ten_crimes_pd = top_ten_crimes.toPandas()\n",
        "\n",
        "# Plot top ten crimes as a bar chart\n",
        "plt.figure(figsize=(10, 6))\n",
        "plt.bar(top_ten_crimes_pd[\"Primary Type\"], top_ten_crimes_pd[\"CrimeCount\"])\n",
        "plt.title(\"Top Ten Crimes\")\n",
        "plt.xlabel(\"Crime Type\")\n",
        "plt.ylabel(\"Number of Occurrences\")\n",
        "plt.xticks(rotation=45, ha='right')\n",
        "plt.tight_layout()\n",
        "plt.show()"
      ],
      "metadata": {
        "colab": {
          "base_uri": "https://localhost:8080/",
          "height": 607
        },
        "id": "DP9XImx8CQko",
        "outputId": "61f35c09-ec07-43b2-c08f-a8949dffaf69"
      },
      "execution_count": 25,
      "outputs": [
        {
          "output_type": "display_data",
          "data": {
            "text/plain": [
              "<Figure size 1000x600 with 1 Axes>"
            ],
            "image/png": "[encoded data removed]"
          },
          "metadata": {}
        }
      ]
    }
  ]
}