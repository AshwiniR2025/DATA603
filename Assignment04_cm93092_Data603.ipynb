{
 "cells": [
  {
   "cell_type": "code",
   "execution_count": 1,
   "id": "b972b83a",
   "metadata": {},
   "outputs": [],
   "source": [
    "import requests\n",
    "import folium\n",
    "import time"
   ]
  },
  {
   "cell_type": "markdown",
   "id": "bfc99551",
   "metadata": {},
   "source": [
    "fetch_nasa_satellite_data() function sends a request to the \n",
    "API endpoint \"http://api.open-notify.org/iss-now.json\" to fetch the \n",
    "current latitude, longitude, and timestamp of the ISS. \n",
    "It returns this data in JSON format if the request is successful."
   ]
  },
  {
   "cell_type": "code",
   "execution_count": 2,
   "id": "3ef50349",
   "metadata": {},
   "outputs": [],
   "source": [
    "def fetch_nasa_satellite_data():\n",
    "    source = \"http://api.open-notify.org/iss-now.json\" \n",
    "    response = requests.get(source) #requests.get() function sends a request to the specified URL\n",
    "    \n",
    "    if response.status_code == 200: #status code 200 indicates a successful response\n",
    "        data = response.json()\n",
    "        return data\n",
    "    else:\n",
    "        print(\"Failed to fetch data from the API.\")\n",
    "        return None"
   ]
  },
  {
   "cell_type": "markdown",
   "id": "b582e50e",
   "metadata": {},
   "source": [
    "update_map_with_nasa_satellite_location() function updates the world map with a marker representing the ISS location. \n",
    "It takes latitude, longitude, timestamp, and the map object as input and \n",
    "adds a marker to the map at the specified coordinates."
   ]
  },
  {
   "cell_type": "code",
   "execution_count": 3,
   "id": "4b9a51dd",
   "metadata": {},
   "outputs": [],
   "source": [
    "def update_map_with_nasa_satellite_location(latitude, longitude, timestamp, map_object):\n",
    "    marker = folium.Marker([float(latitude), float(longitude)], popup=(\"Timestamp: \",timestamp))#creates a marker object ,The popup parameter of the marker is set to a tuple containing the string \"Timestamp: \" and the value of the timestamp parameter. This tuple is used to display the timestamp information when the marker is clicked.\n",
    "    marker.add_to(map_object) #the marker is added to the map object"
   ]
  },
  {
   "cell_type": "markdown",
   "id": "673c4c63",
   "metadata": {},
   "source": [
    "display_nasa_satellite_location_on_map() function: This function is the core of the consumer job. \n",
    "It creates an empty world map centered at coordinates [0, 0] with a zoom level of 2. Then, it continuously fetches satellite data using fetch_satellite_data() function and updates the map with the ISS location marker every 5 seconds. The streaming duration is controlled by the time_limit parameter. \n",
    "The updated map is saved as an HTML file named \"satellite_track.html\"."
   ]
  },
  {
   "cell_type": "code",
   "execution_count": 6,
   "id": "690ea98e",
   "metadata": {},
   "outputs": [],
   "source": [
    "def display_nasa_satellite_location_on_map(time_limit):\n",
    "    map_center = [0, 0]\n",
    "    satellite_map = folium.Map(location=map_center, zoom_start=2) #creating an empty world map centered at coordinates [0, 0] with a zoom level of 2 using folium.Map().\n",
    "    start_time = time.time()\n",
    "    end_time = start_time + time_limit\n",
    "    while time.time() < end_time:\n",
    "        satellite_data = fetch_nasa_satellite_data() #extracts and returns the JSON data \n",
    "        if satellite_data:\n",
    "            latitude = satellite_data[\"iss_position\"][\"latitude\"]\n",
    "            longitude = satellite_data[\"iss_position\"][\"longitude\"]\n",
    "            timestamp = satellite_data[\"timestamp\"] \n",
    "            update_map_with_nasa_satellite_location(latitude, longitude, timestamp, satellite_map) # update the map with a marker representing the satellite's current location \n",
    "            time.sleep(5)#The loop waits for 5 seconds before fetching new data to simulate real-time streaming\n",
    "        else:\n",
    "            time.sleep(1)\n",
    "        satellite_map.save(\"nasa_satellite_track.html\")#The updated map is saved as an HTML file named \"nasa_satellite_track.html\" after each iteration of the loop."
   ]
  },
  {
   "cell_type": "markdown",
   "id": "6547f0ed",
   "metadata": {},
   "source": [
    "Main execution: The main function calls display_nasa_satellite_location_on_map() with a time_limit of 3600 seconds (1 hour).\n",
    "This ensures that the program runs for an hour, continuously updating the map with the ISS location.\n",
    "After the specified time limit, the execution stops."
   ]
  },
  {
   "cell_type": "code",
   "execution_count": 7,
   "id": "165fcfcd",
   "metadata": {},
   "outputs": [],
   "source": [
    "if __name__ == \"__main__\":\n",
    "    time_limit_sec = 3600  #sets the time limit for data streaming to 3600 seconds\n",
    "    display_nasa_satellite_location_on_map(time_limit_sec)"
   ]
  },
  {
   "cell_type": "code",
   "execution_count": null,
   "id": "fd8bb90a",
   "metadata": {},
   "outputs": [],
   "source": []
  }
 ],
 "metadata": {
  "kernelspec": {
   "display_name": "Python 3 (ipykernel)",
   "language": "python",
   "name": "python3"
  },
  "language_info": {
   "codemirror_mode": {
    "name": "ipython",
    "version": 3
   },
   "file_extension": ".py",
   "mimetype": "text/x-python",
   "name": "python",
   "nbconvert_exporter": "python",
   "pygments_lexer": "ipython3",
   "version": "3.11.5"
  }
 },
 "nbformat": 4,
 "nbformat_minor": 5
}
